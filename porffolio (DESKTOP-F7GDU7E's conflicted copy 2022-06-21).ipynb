{
 "cells": [
  {
   "cell_type": "code",
   "execution_count": 2,
   "metadata": {
    "collapsed": true
   },
   "outputs": [],
   "source": [
    "import numpy as np\n",
    "import pandas as pd\n",
    "import yfinance as yf\n",
    "from scipy.optimize import minimize"
   ]
  },
  {
   "cell_type": "code",
   "execution_count": 3,
   "outputs": [],
   "source": [
    "tickers = ['TSM','AAPL','AMD','BABA']"
   ],
   "metadata": {
    "collapsed": false,
    "pycharm": {
     "name": "#%%\n"
    }
   }
  },
  {
   "cell_type": "code",
   "execution_count": 4,
   "outputs": [
    {
     "name": "stdout",
     "output_type": "stream",
     "text": [
      "[*********************100%***********************]  4 of 4 completed\n"
     ]
    }
   ],
   "source": [
    "data =yf.download(tickers, start='2020-01-01', end='2021-12-31')"
   ],
   "metadata": {
    "collapsed": false,
    "pycharm": {
     "name": "#%%\n"
    }
   }
  },
  {
   "cell_type": "code",
   "execution_count": 5,
   "outputs": [
    {
     "data": {
      "text/plain": "            Adj Close                                        Close             \\\n                 AAPL        AMD        BABA        TSM       AAPL        AMD   \nDate                                                                            \n2020-01-02  73.785927  49.099998  219.770004  56.990189  75.087502  49.099998   \n2020-01-03  73.068581  48.599998  217.000000  55.110756  74.357498  48.599998   \n2020-01-06  73.650795  48.389999  216.639999  54.474800  74.949997  48.389999   \n2020-01-07  73.304413  48.250000  217.630005  55.357555  74.597504  48.250000   \n2020-01-08  74.483597  47.830002  218.000000  55.765709  75.797501  47.830002   \n\n                                        High             ...         Low  \\\n                  BABA        TSM       AAPL        AMD  ...        BABA   \nDate                                                     ...               \n2020-01-02  219.770004  60.040001  75.150002  49.250000  ...  216.539993   \n2020-01-03  217.000000  58.060001  75.144997  49.389999  ...  216.009995   \n2020-01-06  216.639999  57.389999  74.989998  48.860001  ...  214.089996   \n2020-01-07  217.630005  58.320000  75.224998  49.389999  ...  216.690002   \n2020-01-08  218.000000  58.750000  76.110001  48.299999  ...  216.320007   \n\n                            Open                                       Volume  \\\n                  TSM       AAPL        AMD        BABA        TSM       AAPL   \nDate                                                                            \n2020-01-02  59.599998  74.059998  46.860001  216.600006  59.599998  135480400   \n2020-01-03  58.040001  74.287498  48.029999  216.350006  58.970001  146322800   \n2020-01-06  57.130001  73.447502  48.020000  214.889999  57.599998  118387200   \n2020-01-07  56.740002  74.959999  49.349998  217.639999  57.450001  108872000   \n2020-01-08  58.110001  74.290001  47.849998  216.600006  58.189999  132079200   \n\n                                          \n                 AMD      BABA       TSM  \nDate                                      \n2020-01-02  80331100  15873500   8432600  \n2020-01-03  73127400   8604500  10546400  \n2020-01-06  47934900  11885500   8897200  \n2020-01-07  58061400   9388000   7444300  \n2020-01-08  53767000  11959100   5381500  \n\n[5 rows x 24 columns]",
      "text/html": "<div>\n<style scoped>\n    .dataframe tbody tr th:only-of-type {\n        vertical-align: middle;\n    }\n\n    .dataframe tbody tr th {\n        vertical-align: top;\n    }\n\n    .dataframe thead tr th {\n        text-align: left;\n    }\n\n    .dataframe thead tr:last-of-type th {\n        text-align: right;\n    }\n</style>\n<table border=\"1\" class=\"dataframe\">\n  <thead>\n    <tr>\n      <th></th>\n      <th colspan=\"4\" halign=\"left\">Adj Close</th>\n      <th colspan=\"4\" halign=\"left\">Close</th>\n      <th colspan=\"2\" halign=\"left\">High</th>\n      <th>...</th>\n      <th colspan=\"2\" halign=\"left\">Low</th>\n      <th colspan=\"4\" halign=\"left\">Open</th>\n      <th colspan=\"4\" halign=\"left\">Volume</th>\n    </tr>\n    <tr>\n      <th></th>\n      <th>AAPL</th>\n      <th>AMD</th>\n      <th>BABA</th>\n      <th>TSM</th>\n      <th>AAPL</th>\n      <th>AMD</th>\n      <th>BABA</th>\n      <th>TSM</th>\n      <th>AAPL</th>\n      <th>AMD</th>\n      <th>...</th>\n      <th>BABA</th>\n      <th>TSM</th>\n      <th>AAPL</th>\n      <th>AMD</th>\n      <th>BABA</th>\n      <th>TSM</th>\n      <th>AAPL</th>\n      <th>AMD</th>\n      <th>BABA</th>\n      <th>TSM</th>\n    </tr>\n    <tr>\n      <th>Date</th>\n      <th></th>\n      <th></th>\n      <th></th>\n      <th></th>\n      <th></th>\n      <th></th>\n      <th></th>\n      <th></th>\n      <th></th>\n      <th></th>\n      <th></th>\n      <th></th>\n      <th></th>\n      <th></th>\n      <th></th>\n      <th></th>\n      <th></th>\n      <th></th>\n      <th></th>\n      <th></th>\n      <th></th>\n    </tr>\n  </thead>\n  <tbody>\n    <tr>\n      <th>2020-01-02</th>\n      <td>73.785927</td>\n      <td>49.099998</td>\n      <td>219.770004</td>\n      <td>56.990189</td>\n      <td>75.087502</td>\n      <td>49.099998</td>\n      <td>219.770004</td>\n      <td>60.040001</td>\n      <td>75.150002</td>\n      <td>49.250000</td>\n      <td>...</td>\n      <td>216.539993</td>\n      <td>59.599998</td>\n      <td>74.059998</td>\n      <td>46.860001</td>\n      <td>216.600006</td>\n      <td>59.599998</td>\n      <td>135480400</td>\n      <td>80331100</td>\n      <td>15873500</td>\n      <td>8432600</td>\n    </tr>\n    <tr>\n      <th>2020-01-03</th>\n      <td>73.068581</td>\n      <td>48.599998</td>\n      <td>217.000000</td>\n      <td>55.110756</td>\n      <td>74.357498</td>\n      <td>48.599998</td>\n      <td>217.000000</td>\n      <td>58.060001</td>\n      <td>75.144997</td>\n      <td>49.389999</td>\n      <td>...</td>\n      <td>216.009995</td>\n      <td>58.040001</td>\n      <td>74.287498</td>\n      <td>48.029999</td>\n      <td>216.350006</td>\n      <td>58.970001</td>\n      <td>146322800</td>\n      <td>73127400</td>\n      <td>8604500</td>\n      <td>10546400</td>\n    </tr>\n    <tr>\n      <th>2020-01-06</th>\n      <td>73.650795</td>\n      <td>48.389999</td>\n      <td>216.639999</td>\n      <td>54.474800</td>\n      <td>74.949997</td>\n      <td>48.389999</td>\n      <td>216.639999</td>\n      <td>57.389999</td>\n      <td>74.989998</td>\n      <td>48.860001</td>\n      <td>...</td>\n      <td>214.089996</td>\n      <td>57.130001</td>\n      <td>73.447502</td>\n      <td>48.020000</td>\n      <td>214.889999</td>\n      <td>57.599998</td>\n      <td>118387200</td>\n      <td>47934900</td>\n      <td>11885500</td>\n      <td>8897200</td>\n    </tr>\n    <tr>\n      <th>2020-01-07</th>\n      <td>73.304413</td>\n      <td>48.250000</td>\n      <td>217.630005</td>\n      <td>55.357555</td>\n      <td>74.597504</td>\n      <td>48.250000</td>\n      <td>217.630005</td>\n      <td>58.320000</td>\n      <td>75.224998</td>\n      <td>49.389999</td>\n      <td>...</td>\n      <td>216.690002</td>\n      <td>56.740002</td>\n      <td>74.959999</td>\n      <td>49.349998</td>\n      <td>217.639999</td>\n      <td>57.450001</td>\n      <td>108872000</td>\n      <td>58061400</td>\n      <td>9388000</td>\n      <td>7444300</td>\n    </tr>\n    <tr>\n      <th>2020-01-08</th>\n      <td>74.483597</td>\n      <td>47.830002</td>\n      <td>218.000000</td>\n      <td>55.765709</td>\n      <td>75.797501</td>\n      <td>47.830002</td>\n      <td>218.000000</td>\n      <td>58.750000</td>\n      <td>76.110001</td>\n      <td>48.299999</td>\n      <td>...</td>\n      <td>216.320007</td>\n      <td>58.110001</td>\n      <td>74.290001</td>\n      <td>47.849998</td>\n      <td>216.600006</td>\n      <td>58.189999</td>\n      <td>132079200</td>\n      <td>53767000</td>\n      <td>11959100</td>\n      <td>5381500</td>\n    </tr>\n  </tbody>\n</table>\n<p>5 rows × 24 columns</p>\n</div>"
     },
     "execution_count": 5,
     "metadata": {},
     "output_type": "execute_result"
    }
   ],
   "source": [
    "data.head()"
   ],
   "metadata": {
    "collapsed": false,
    "pycharm": {
     "name": "#%%\n"
    }
   }
  },
  {
   "cell_type": "code",
   "execution_count": 6,
   "outputs": [],
   "source": [
    "data2 = data['Adj Close']"
   ],
   "metadata": {
    "collapsed": false,
    "pycharm": {
     "name": "#%%\n"
    }
   }
  },
  {
   "cell_type": "code",
   "execution_count": 6,
   "outputs": [],
   "source": [],
   "metadata": {
    "collapsed": false,
    "pycharm": {
     "name": "#%%\n"
    }
   }
  },
  {
   "cell_type": "code",
   "execution_count": 7,
   "outputs": [
    {
     "name": "stdout",
     "output_type": "stream",
     "text": [
      "<class 'pandas.core.frame.DataFrame'>\n",
      "DatetimeIndex: 504 entries, 2020-01-02 to 2021-12-30\n",
      "Data columns (total 4 columns):\n",
      " #   Column  Non-Null Count  Dtype  \n",
      "---  ------  --------------  -----  \n",
      " 0   AAPL    504 non-null    float64\n",
      " 1   AMD     504 non-null    float64\n",
      " 2   BABA    504 non-null    float64\n",
      " 3   TSM     504 non-null    float64\n",
      "dtypes: float64(4)\n",
      "memory usage: 19.7 KB\n"
     ]
    }
   ],
   "source": [
    "data2.info()"
   ],
   "metadata": {
    "collapsed": false,
    "pycharm": {
     "name": "#%%\n"
    }
   }
  },
  {
   "cell_type": "code",
   "execution_count": 8,
   "outputs": [],
   "source": [
    "data3 = data2.resample('1M').ffill().pct_change()"
   ],
   "metadata": {
    "collapsed": false,
    "pycharm": {
     "name": "#%%\n"
    }
   }
  },
  {
   "cell_type": "code",
   "execution_count": 9,
   "outputs": [
    {
     "data": {
      "text/plain": "                AAPL       AMD      BABA       TSM\nDate                                              \n2020-01-31       NaN       NaN       NaN       NaN\n2020-02-29 -0.114702 -0.032340  0.006825 -0.001854\n2020-03-31 -0.069761  0.000000 -0.065000 -0.103949\n2020-04-30  0.155374  0.151935  0.042112  0.111739\n2020-05-31  0.085094  0.026914  0.023289 -0.052701",
      "text/html": "<div>\n<style scoped>\n    .dataframe tbody tr th:only-of-type {\n        vertical-align: middle;\n    }\n\n    .dataframe tbody tr th {\n        vertical-align: top;\n    }\n\n    .dataframe thead th {\n        text-align: right;\n    }\n</style>\n<table border=\"1\" class=\"dataframe\">\n  <thead>\n    <tr style=\"text-align: right;\">\n      <th></th>\n      <th>AAPL</th>\n      <th>AMD</th>\n      <th>BABA</th>\n      <th>TSM</th>\n    </tr>\n    <tr>\n      <th>Date</th>\n      <th></th>\n      <th></th>\n      <th></th>\n      <th></th>\n    </tr>\n  </thead>\n  <tbody>\n    <tr>\n      <th>2020-01-31</th>\n      <td>NaN</td>\n      <td>NaN</td>\n      <td>NaN</td>\n      <td>NaN</td>\n    </tr>\n    <tr>\n      <th>2020-02-29</th>\n      <td>-0.114702</td>\n      <td>-0.032340</td>\n      <td>0.006825</td>\n      <td>-0.001854</td>\n    </tr>\n    <tr>\n      <th>2020-03-31</th>\n      <td>-0.069761</td>\n      <td>0.000000</td>\n      <td>-0.065000</td>\n      <td>-0.103949</td>\n    </tr>\n    <tr>\n      <th>2020-04-30</th>\n      <td>0.155374</td>\n      <td>0.151935</td>\n      <td>0.042112</td>\n      <td>0.111739</td>\n    </tr>\n    <tr>\n      <th>2020-05-31</th>\n      <td>0.085094</td>\n      <td>0.026914</td>\n      <td>0.023289</td>\n      <td>-0.052701</td>\n    </tr>\n  </tbody>\n</table>\n</div>"
     },
     "execution_count": 9,
     "metadata": {},
     "output_type": "execute_result"
    }
   ],
   "source": [
    "data3.head()"
   ],
   "metadata": {
    "collapsed": false,
    "pycharm": {
     "name": "#%%\n"
    }
   }
  },
  {
   "cell_type": "code",
   "execution_count": 10,
   "outputs": [],
   "source": [
    "data3.dropna(inplace =True)\n",
    "\n",
    "\n"
   ],
   "metadata": {
    "collapsed": false,
    "pycharm": {
     "name": "#%%\n"
    }
   }
  },
  {
   "cell_type": "code",
   "execution_count": 183,
   "outputs": [],
   "source": [
    "constarints = [1]"
   ],
   "metadata": {
    "collapsed": false,
    "pycharm": {
     "name": "#%%\n"
    }
   }
  },
  {
   "cell_type": "code",
   "execution_count": 184,
   "outputs": [],
   "source": [
    "# data3.to_csv('sample')"
   ],
   "metadata": {
    "collapsed": false,
    "pycharm": {
     "name": "#%%\n"
    }
   }
  },
  {
   "cell_type": "code",
   "execution_count": 185,
   "outputs": [
    {
     "data": {
      "text/plain": "          AAPL       AMD      BABA       TSM\nAAPL  0.008971  0.008840  0.002263  0.004439\nAMD   0.008840  0.021286  0.001840  0.008236\nBABA  0.002263  0.001840  0.010236  0.003452\nTSM   0.004439  0.008236  0.003452  0.010237",
      "text/html": "<div>\n<style scoped>\n    .dataframe tbody tr th:only-of-type {\n        vertical-align: middle;\n    }\n\n    .dataframe tbody tr th {\n        vertical-align: top;\n    }\n\n    .dataframe thead th {\n        text-align: right;\n    }\n</style>\n<table border=\"1\" class=\"dataframe\">\n  <thead>\n    <tr style=\"text-align: right;\">\n      <th></th>\n      <th>AAPL</th>\n      <th>AMD</th>\n      <th>BABA</th>\n      <th>TSM</th>\n    </tr>\n  </thead>\n  <tbody>\n    <tr>\n      <th>AAPL</th>\n      <td>0.008971</td>\n      <td>0.008840</td>\n      <td>0.002263</td>\n      <td>0.004439</td>\n    </tr>\n    <tr>\n      <th>AMD</th>\n      <td>0.008840</td>\n      <td>0.021286</td>\n      <td>0.001840</td>\n      <td>0.008236</td>\n    </tr>\n    <tr>\n      <th>BABA</th>\n      <td>0.002263</td>\n      <td>0.001840</td>\n      <td>0.010236</td>\n      <td>0.003452</td>\n    </tr>\n    <tr>\n      <th>TSM</th>\n      <td>0.004439</td>\n      <td>0.008236</td>\n      <td>0.003452</td>\n      <td>0.010237</td>\n    </tr>\n  </tbody>\n</table>\n</div>"
     },
     "execution_count": 185,
     "metadata": {},
     "output_type": "execute_result"
    }
   ],
   "source": [
    "cov = data3.cov()\n",
    "cov"
   ],
   "metadata": {
    "collapsed": false,
    "pycharm": {
     "name": "#%%\n"
    }
   }
  },
  {
   "cell_type": "code",
   "execution_count": 186,
   "outputs": [],
   "source": [
    "cov_weights = cov"
   ],
   "metadata": {
    "collapsed": false,
    "pycharm": {
     "name": "#%%\n"
    }
   }
  },
  {
   "cell_type": "code",
   "execution_count": 187,
   "outputs": [],
   "source": [
    "cov_weights['weights'] = .25\n",
    "# cov_weights.set_index(\"weights\")"
   ],
   "metadata": {
    "collapsed": false,
    "pycharm": {
     "name": "#%%\n"
    }
   }
  },
  {
   "cell_type": "code",
   "execution_count": 188,
   "outputs": [
    {
     "data": {
      "text/plain": "          AAPL       AMD      BABA       TSM  weights\nAAPL  0.008971  0.008840  0.002263  0.004439     0.25\nAMD   0.008840  0.021286  0.001840  0.008236     0.25\nBABA  0.002263  0.001840  0.010236  0.003452     0.25\nTSM   0.004439  0.008236  0.003452  0.010237     0.25",
      "text/html": "<div>\n<style scoped>\n    .dataframe tbody tr th:only-of-type {\n        vertical-align: middle;\n    }\n\n    .dataframe tbody tr th {\n        vertical-align: top;\n    }\n\n    .dataframe thead th {\n        text-align: right;\n    }\n</style>\n<table border=\"1\" class=\"dataframe\">\n  <thead>\n    <tr style=\"text-align: right;\">\n      <th></th>\n      <th>AAPL</th>\n      <th>AMD</th>\n      <th>BABA</th>\n      <th>TSM</th>\n      <th>weights</th>\n    </tr>\n  </thead>\n  <tbody>\n    <tr>\n      <th>AAPL</th>\n      <td>0.008971</td>\n      <td>0.008840</td>\n      <td>0.002263</td>\n      <td>0.004439</td>\n      <td>0.25</td>\n    </tr>\n    <tr>\n      <th>AMD</th>\n      <td>0.008840</td>\n      <td>0.021286</td>\n      <td>0.001840</td>\n      <td>0.008236</td>\n      <td>0.25</td>\n    </tr>\n    <tr>\n      <th>BABA</th>\n      <td>0.002263</td>\n      <td>0.001840</td>\n      <td>0.010236</td>\n      <td>0.003452</td>\n      <td>0.25</td>\n    </tr>\n    <tr>\n      <th>TSM</th>\n      <td>0.004439</td>\n      <td>0.008236</td>\n      <td>0.003452</td>\n      <td>0.010237</td>\n      <td>0.25</td>\n    </tr>\n  </tbody>\n</table>\n</div>"
     },
     "execution_count": 188,
     "metadata": {},
     "output_type": "execute_result"
    }
   ],
   "source": [
    "cov_weights"
   ],
   "metadata": {
    "collapsed": false,
    "pycharm": {
     "name": "#%%\n"
    }
   }
  },
  {
   "cell_type": "code",
   "execution_count": 189,
   "outputs": [],
   "source": [
    "import pulp"
   ],
   "metadata": {
    "collapsed": false,
    "pycharm": {
     "name": "#%%\n"
    }
   }
  },
  {
   "cell_type": "code",
   "execution_count": 241,
   "outputs": [],
   "source": [
    "x = pulp.LpProblem(\"min\", pulp.LpMinimize)"
   ],
   "metadata": {
    "collapsed": false,
    "pycharm": {
     "name": "#%%\n"
    }
   }
  },
  {
   "cell_type": "code",
   "execution_count": 242,
   "outputs": [],
   "source": [
    "x1 = pulp.LpVariable('x1',0,1)"
   ],
   "metadata": {
    "collapsed": false,
    "pycharm": {
     "name": "#%%\n"
    }
   }
  },
  {
   "cell_type": "code",
   "execution_count": 247,
   "outputs": [],
   "source": [
    "x2 = pulp.LpVariable(\"x1\")"
   ],
   "metadata": {
    "collapsed": false,
    "pycharm": {
     "name": "#%%\n"
    }
   }
  },
  {
   "cell_type": "code",
   "execution_count": 249,
   "outputs": [
    {
     "ename": "TypeError",
     "evalue": "Non-constant expressions cannot be multiplied",
     "output_type": "error",
     "traceback": [
      "\u001B[1;31m---------------------------------------------------------------------------\u001B[0m",
      "\u001B[1;31mTypeError\u001B[0m                                 Traceback (most recent call last)",
      "\u001B[1;32m~\\AppData\\Local\\Temp/ipykernel_14508/4048358702.py\u001B[0m in \u001B[0;36m<module>\u001B[1;34m\u001B[0m\n\u001B[1;32m----> 1\u001B[1;33m \u001B[0mx\u001B[0m \u001B[1;33m+=\u001B[0m \u001B[0mpulp\u001B[0m\u001B[1;33m.\u001B[0m\u001B[0mlpSum\u001B[0m\u001B[1;33m(\u001B[0m\u001B[0mx1\u001B[0m\u001B[1;33m*\u001B[0m\u001B[0mx2\u001B[0m\u001B[1;33m)\u001B[0m\u001B[1;33m\u001B[0m\u001B[1;33m\u001B[0m\u001B[0m\n\u001B[0m",
      "\u001B[1;32m~\\anaconda3\\envs\\myenv\\lib\\site-packages\\pulp\\pulp.py\u001B[0m in \u001B[0;36m__mul__\u001B[1;34m(self, other)\u001B[0m\n\u001B[0;32m    207\u001B[0m \u001B[1;33m\u001B[0m\u001B[0m\n\u001B[0;32m    208\u001B[0m     \u001B[1;32mdef\u001B[0m \u001B[0m__mul__\u001B[0m\u001B[1;33m(\u001B[0m\u001B[0mself\u001B[0m\u001B[1;33m,\u001B[0m \u001B[0mother\u001B[0m\u001B[1;33m)\u001B[0m\u001B[1;33m:\u001B[0m\u001B[1;33m\u001B[0m\u001B[1;33m\u001B[0m\u001B[0m\n\u001B[1;32m--> 209\u001B[1;33m         \u001B[1;32mreturn\u001B[0m \u001B[0mLpAffineExpression\u001B[0m\u001B[1;33m(\u001B[0m\u001B[0mself\u001B[0m\u001B[1;33m)\u001B[0m \u001B[1;33m*\u001B[0m \u001B[0mother\u001B[0m\u001B[1;33m\u001B[0m\u001B[1;33m\u001B[0m\u001B[0m\n\u001B[0m\u001B[0;32m    210\u001B[0m \u001B[1;33m\u001B[0m\u001B[0m\n\u001B[0;32m    211\u001B[0m     \u001B[1;32mdef\u001B[0m \u001B[0m__rmul__\u001B[0m\u001B[1;33m(\u001B[0m\u001B[0mself\u001B[0m\u001B[1;33m,\u001B[0m \u001B[0mother\u001B[0m\u001B[1;33m)\u001B[0m\u001B[1;33m:\u001B[0m\u001B[1;33m\u001B[0m\u001B[1;33m\u001B[0m\u001B[0m\n",
      "\u001B[1;32m~\\anaconda3\\envs\\myenv\\lib\\site-packages\\pulp\\pulp.py\u001B[0m in \u001B[0;36m__mul__\u001B[1;34m(self, other)\u001B[0m\n\u001B[0;32m    967\u001B[0m                         \u001B[0me\u001B[0m\u001B[1;33m[\u001B[0m\u001B[0mv\u001B[0m\u001B[1;33m]\u001B[0m \u001B[1;33m=\u001B[0m \u001B[0mc\u001B[0m \u001B[1;33m*\u001B[0m \u001B[0mx\u001B[0m\u001B[1;33m\u001B[0m\u001B[1;33m\u001B[0m\u001B[0m\n\u001B[0;32m    968\u001B[0m         \u001B[1;32melif\u001B[0m \u001B[0misinstance\u001B[0m\u001B[1;33m(\u001B[0m\u001B[0mother\u001B[0m\u001B[1;33m,\u001B[0m \u001B[0mLpVariable\u001B[0m\u001B[1;33m)\u001B[0m\u001B[1;33m:\u001B[0m\u001B[1;33m\u001B[0m\u001B[1;33m\u001B[0m\u001B[0m\n\u001B[1;32m--> 969\u001B[1;33m             \u001B[1;32mreturn\u001B[0m \u001B[0mself\u001B[0m \u001B[1;33m*\u001B[0m \u001B[0mLpAffineExpression\u001B[0m\u001B[1;33m(\u001B[0m\u001B[0mother\u001B[0m\u001B[1;33m)\u001B[0m\u001B[1;33m\u001B[0m\u001B[1;33m\u001B[0m\u001B[0m\n\u001B[0m\u001B[0;32m    970\u001B[0m         \u001B[1;32melse\u001B[0m\u001B[1;33m:\u001B[0m\u001B[1;33m\u001B[0m\u001B[1;33m\u001B[0m\u001B[0m\n\u001B[0;32m    971\u001B[0m             \u001B[1;32mif\u001B[0m \u001B[0mother\u001B[0m \u001B[1;33m!=\u001B[0m \u001B[1;36m0\u001B[0m\u001B[1;33m:\u001B[0m\u001B[1;33m\u001B[0m\u001B[1;33m\u001B[0m\u001B[0m\n",
      "\u001B[1;32m~\\anaconda3\\envs\\myenv\\lib\\site-packages\\pulp\\pulp.py\u001B[0m in \u001B[0;36m__mul__\u001B[1;34m(self, other)\u001B[0m\n\u001B[0;32m    955\u001B[0m             \u001B[1;32mif\u001B[0m \u001B[0mlen\u001B[0m\u001B[1;33m(\u001B[0m\u001B[0mother\u001B[0m\u001B[1;33m)\u001B[0m\u001B[1;33m:\u001B[0m\u001B[1;33m\u001B[0m\u001B[1;33m\u001B[0m\u001B[0m\n\u001B[0;32m    956\u001B[0m                 \u001B[1;32mif\u001B[0m \u001B[0mlen\u001B[0m\u001B[1;33m(\u001B[0m\u001B[0mself\u001B[0m\u001B[1;33m)\u001B[0m\u001B[1;33m:\u001B[0m\u001B[1;33m\u001B[0m\u001B[1;33m\u001B[0m\u001B[0m\n\u001B[1;32m--> 957\u001B[1;33m                     \u001B[1;32mraise\u001B[0m \u001B[0mTypeError\u001B[0m\u001B[1;33m(\u001B[0m\u001B[1;34m\"Non-constant expressions cannot be multiplied\"\u001B[0m\u001B[1;33m)\u001B[0m\u001B[1;33m\u001B[0m\u001B[1;33m\u001B[0m\u001B[0m\n\u001B[0m\u001B[0;32m    958\u001B[0m                 \u001B[1;32melse\u001B[0m\u001B[1;33m:\u001B[0m\u001B[1;33m\u001B[0m\u001B[1;33m\u001B[0m\u001B[0m\n\u001B[0;32m    959\u001B[0m                     \u001B[0mc\u001B[0m \u001B[1;33m=\u001B[0m \u001B[0mself\u001B[0m\u001B[1;33m.\u001B[0m\u001B[0mconstant\u001B[0m\u001B[1;33m\u001B[0m\u001B[1;33m\u001B[0m\u001B[0m\n",
      "\u001B[1;31mTypeError\u001B[0m: Non-constant expressions cannot be multiplied"
     ]
    }
   ],
   "source": [],
   "metadata": {
    "collapsed": false,
    "pycharm": {
     "name": "#%%\n"
    }
   }
  },
  {
   "cell_type": "code",
   "execution_count": 249,
   "outputs": [],
   "source": [],
   "metadata": {
    "collapsed": false,
    "pycharm": {
     "name": "#%%\n"
    }
   }
  },
  {
   "cell_type": "code",
   "execution_count": 228,
   "outputs": [],
   "source": [],
   "metadata": {
    "collapsed": false,
    "pycharm": {
     "name": "#%%\n"
    }
   }
  },
  {
   "cell_type": "code",
   "execution_count": 229,
   "outputs": [
    {
     "name": "stderr",
     "output_type": "stream",
     "text": [
      "C:\\Users\\shane\\anaconda3\\envs\\myenv\\lib\\site-packages\\pulp\\pulp.py:1704: UserWarning: Overwriting previously set objective.\n",
      "  warnings.warn(\"Overwriting previously set objective.\")\n"
     ]
    }
   ],
   "source": [],
   "metadata": {
    "collapsed": false,
    "pycharm": {
     "name": "#%%\n"
    }
   }
  },
  {
   "cell_type": "code",
   "execution_count": 230,
   "outputs": [
    {
     "ename": "PulpSolverError",
     "evalue": "Pulp: Error while executing C:\\Users\\shane\\anaconda3\\envs\\myenv\\lib\\site-packages\\pulp\\apis\\..\\solverdir\\cbc\\win\\64\\cbc.exe",
     "output_type": "error",
     "traceback": [
      "\u001B[1;31m---------------------------------------------------------------------------\u001B[0m",
      "\u001B[1;31mPulpSolverError\u001B[0m                           Traceback (most recent call last)",
      "\u001B[1;32m~\\AppData\\Local\\Temp/ipykernel_14508/965076933.py\u001B[0m in \u001B[0;36m<module>\u001B[1;34m\u001B[0m\n\u001B[1;32m----> 1\u001B[1;33m \u001B[0mx\u001B[0m\u001B[1;33m.\u001B[0m\u001B[0msolve\u001B[0m\u001B[1;33m(\u001B[0m\u001B[1;33m)\u001B[0m\u001B[1;33m\u001B[0m\u001B[1;33m\u001B[0m\u001B[0m\n\u001B[0m",
      "\u001B[1;32m~\\anaconda3\\envs\\myenv\\lib\\site-packages\\pulp\\pulp.py\u001B[0m in \u001B[0;36msolve\u001B[1;34m(self, solver, **kwargs)\u001B[0m\n\u001B[0;32m   1911\u001B[0m         \u001B[1;31m# time it\u001B[0m\u001B[1;33m\u001B[0m\u001B[1;33m\u001B[0m\u001B[0m\n\u001B[0;32m   1912\u001B[0m         \u001B[0mself\u001B[0m\u001B[1;33m.\u001B[0m\u001B[0mstartClock\u001B[0m\u001B[1;33m(\u001B[0m\u001B[1;33m)\u001B[0m\u001B[1;33m\u001B[0m\u001B[1;33m\u001B[0m\u001B[0m\n\u001B[1;32m-> 1913\u001B[1;33m         \u001B[0mstatus\u001B[0m \u001B[1;33m=\u001B[0m \u001B[0msolver\u001B[0m\u001B[1;33m.\u001B[0m\u001B[0mactualSolve\u001B[0m\u001B[1;33m(\u001B[0m\u001B[0mself\u001B[0m\u001B[1;33m,\u001B[0m \u001B[1;33m**\u001B[0m\u001B[0mkwargs\u001B[0m\u001B[1;33m)\u001B[0m\u001B[1;33m\u001B[0m\u001B[1;33m\u001B[0m\u001B[0m\n\u001B[0m\u001B[0;32m   1914\u001B[0m         \u001B[0mself\u001B[0m\u001B[1;33m.\u001B[0m\u001B[0mstopClock\u001B[0m\u001B[1;33m(\u001B[0m\u001B[1;33m)\u001B[0m\u001B[1;33m\u001B[0m\u001B[1;33m\u001B[0m\u001B[0m\n\u001B[0;32m   1915\u001B[0m         \u001B[0mself\u001B[0m\u001B[1;33m.\u001B[0m\u001B[0mrestoreObjective\u001B[0m\u001B[1;33m(\u001B[0m\u001B[0mwasNone\u001B[0m\u001B[1;33m,\u001B[0m \u001B[0mdummyVar\u001B[0m\u001B[1;33m)\u001B[0m\u001B[1;33m\u001B[0m\u001B[1;33m\u001B[0m\u001B[0m\n",
      "\u001B[1;32m~\\anaconda3\\envs\\myenv\\lib\\site-packages\\pulp\\apis\\coin_api.py\u001B[0m in \u001B[0;36mactualSolve\u001B[1;34m(self, lp, **kwargs)\u001B[0m\n\u001B[0;32m    135\u001B[0m     \u001B[1;32mdef\u001B[0m \u001B[0mactualSolve\u001B[0m\u001B[1;33m(\u001B[0m\u001B[0mself\u001B[0m\u001B[1;33m,\u001B[0m \u001B[0mlp\u001B[0m\u001B[1;33m,\u001B[0m \u001B[1;33m**\u001B[0m\u001B[0mkwargs\u001B[0m\u001B[1;33m)\u001B[0m\u001B[1;33m:\u001B[0m\u001B[1;33m\u001B[0m\u001B[1;33m\u001B[0m\u001B[0m\n\u001B[0;32m    136\u001B[0m         \u001B[1;34m\"\"\"Solve a well formulated lp problem\"\"\"\u001B[0m\u001B[1;33m\u001B[0m\u001B[1;33m\u001B[0m\u001B[0m\n\u001B[1;32m--> 137\u001B[1;33m         \u001B[1;32mreturn\u001B[0m \u001B[0mself\u001B[0m\u001B[1;33m.\u001B[0m\u001B[0msolve_CBC\u001B[0m\u001B[1;33m(\u001B[0m\u001B[0mlp\u001B[0m\u001B[1;33m,\u001B[0m \u001B[1;33m**\u001B[0m\u001B[0mkwargs\u001B[0m\u001B[1;33m)\u001B[0m\u001B[1;33m\u001B[0m\u001B[1;33m\u001B[0m\u001B[0m\n\u001B[0m\u001B[0;32m    138\u001B[0m \u001B[1;33m\u001B[0m\u001B[0m\n\u001B[0;32m    139\u001B[0m     \u001B[1;32mdef\u001B[0m \u001B[0mavailable\u001B[0m\u001B[1;33m(\u001B[0m\u001B[0mself\u001B[0m\u001B[1;33m)\u001B[0m\u001B[1;33m:\u001B[0m\u001B[1;33m\u001B[0m\u001B[1;33m\u001B[0m\u001B[0m\n",
      "\u001B[1;32m~\\anaconda3\\envs\\myenv\\lib\\site-packages\\pulp\\apis\\coin_api.py\u001B[0m in \u001B[0;36msolve_CBC\u001B[1;34m(self, lp, use_mps)\u001B[0m\n\u001B[0;32m    203\u001B[0m             \u001B[0mpipe\u001B[0m\u001B[1;33m.\u001B[0m\u001B[0mclose\u001B[0m\u001B[1;33m(\u001B[0m\u001B[1;33m)\u001B[0m\u001B[1;33m\u001B[0m\u001B[1;33m\u001B[0m\u001B[0m\n\u001B[0;32m    204\u001B[0m         \u001B[1;32mif\u001B[0m \u001B[1;32mnot\u001B[0m \u001B[0mos\u001B[0m\u001B[1;33m.\u001B[0m\u001B[0mpath\u001B[0m\u001B[1;33m.\u001B[0m\u001B[0mexists\u001B[0m\u001B[1;33m(\u001B[0m\u001B[0mtmpSol\u001B[0m\u001B[1;33m)\u001B[0m\u001B[1;33m:\u001B[0m\u001B[1;33m\u001B[0m\u001B[1;33m\u001B[0m\u001B[0m\n\u001B[1;32m--> 205\u001B[1;33m             \u001B[1;32mraise\u001B[0m \u001B[0mPulpSolverError\u001B[0m\u001B[1;33m(\u001B[0m\u001B[1;34m\"Pulp: Error while executing \"\u001B[0m \u001B[1;33m+\u001B[0m \u001B[0mself\u001B[0m\u001B[1;33m.\u001B[0m\u001B[0mpath\u001B[0m\u001B[1;33m)\u001B[0m\u001B[1;33m\u001B[0m\u001B[1;33m\u001B[0m\u001B[0m\n\u001B[0m\u001B[0;32m    206\u001B[0m         (\n\u001B[0;32m    207\u001B[0m             \u001B[0mstatus\u001B[0m\u001B[1;33m,\u001B[0m\u001B[1;33m\u001B[0m\u001B[1;33m\u001B[0m\u001B[0m\n",
      "\u001B[1;31mPulpSolverError\u001B[0m: Pulp: Error while executing C:\\Users\\shane\\anaconda3\\envs\\myenv\\lib\\site-packages\\pulp\\apis\\..\\solverdir\\cbc\\win\\64\\cbc.exe"
     ]
    }
   ],
   "source": [
    "x.solve()"
   ],
   "metadata": {
    "collapsed": false,
    "pycharm": {
     "name": "#%%\n"
    }
   }
  },
  {
   "cell_type": "code",
   "execution_count": 228,
   "outputs": [],
   "source": [],
   "metadata": {
    "collapsed": false,
    "pycharm": {
     "name": "#%%\n"
    }
   }
  },
  {
   "cell_type": "code",
   "execution_count": 195,
   "outputs": [
    {
     "name": "stdout",
     "output_type": "stream",
     "text": [
      "Requirement already satisfied: docplex in c:\\users\\shane\\anaconda3\\envs\\myenv\\lib\\site-packages (2.23.222)\n",
      "Requirement already satisfied: six in c:\\users\\shane\\anaconda3\\envs\\myenv\\lib\\site-packages (from docplex) (1.16.0)\n"
     ]
    }
   ],
   "source": [],
   "metadata": {
    "collapsed": false,
    "pycharm": {
     "name": "#%%\n"
    }
   }
  },
  {
   "cell_type": "code",
   "execution_count": 196,
   "outputs": [],
   "source": [],
   "metadata": {
    "collapsed": false,
    "pycharm": {
     "name": "#%%\n"
    }
   }
  },
  {
   "cell_type": "code",
   "execution_count": 197,
   "outputs": [],
   "source": [],
   "metadata": {
    "collapsed": false,
    "pycharm": {
     "name": "#%%\n"
    }
   }
  },
  {
   "cell_type": "code",
   "execution_count": 198,
   "outputs": [],
   "source": [],
   "metadata": {
    "collapsed": false,
    "pycharm": {
     "name": "#%%\n"
    }
   }
  },
  {
   "cell_type": "code",
   "execution_count": 206,
   "outputs": [],
   "source": [],
   "metadata": {
    "collapsed": false,
    "pycharm": {
     "name": "#%%\n"
    }
   }
  },
  {
   "cell_type": "code",
   "execution_count": 211,
   "outputs": [
    {
     "ename": "DOcplexException",
     "evalue": "Model.sum() expects numbers/variables/expressions, got: []",
     "output_type": "error",
     "traceback": [
      "\u001B[1;31m---------------------------------------------------------------------------\u001B[0m",
      "\u001B[1;31mAttributeError\u001B[0m                            Traceback (most recent call last)",
      "\u001B[1;32m~\\anaconda3\\envs\\myenv\\lib\\site-packages\\docplex\\mp\\aggregator.py\u001B[0m in \u001B[0;36m_sum_with_iter\u001B[1;34m(self, args)\u001B[0m\n\u001B[0;32m    240\u001B[0m                 \u001B[1;32mtry\u001B[0m\u001B[1;33m:\u001B[0m\u001B[1;33m\u001B[0m\u001B[1;33m\u001B[0m\u001B[0m\n\u001B[1;32m--> 241\u001B[1;33m                     \u001B[0mexpr\u001B[0m \u001B[1;33m=\u001B[0m \u001B[0mitem\u001B[0m\u001B[1;33m.\u001B[0m\u001B[0mto_linear_expr\u001B[0m\u001B[1;33m(\u001B[0m\u001B[1;33m)\u001B[0m\u001B[1;33m\u001B[0m\u001B[1;33m\u001B[0m\u001B[0m\n\u001B[0m\u001B[0;32m    242\u001B[0m                     \u001B[0msum_of_nums\u001B[0m \u001B[1;33m+=\u001B[0m \u001B[0mexpr\u001B[0m\u001B[1;33m.\u001B[0m\u001B[0mget_constant\u001B[0m\u001B[1;33m(\u001B[0m\u001B[1;33m)\u001B[0m\u001B[1;33m\u001B[0m\u001B[1;33m\u001B[0m\u001B[0m\n",
      "\u001B[1;31mAttributeError\u001B[0m: 'numpy.ndarray' object has no attribute 'to_linear_expr'",
      "\nDuring handling of the above exception, another exception occurred:\n",
      "\u001B[1;31mDOcplexException\u001B[0m                          Traceback (most recent call last)",
      "\u001B[1;32m~\\AppData\\Local\\Temp/ipykernel_14508/3282885658.py\u001B[0m in \u001B[0;36m<module>\u001B[1;34m\u001B[0m\n\u001B[1;32m----> 1\u001B[1;33m \u001B[0mwt_constraints\u001B[0m \u001B[1;33m=\u001B[0m \u001B[0mm\u001B[0m\u001B[1;33m.\u001B[0m\u001B[0madd_constraints\u001B[0m\u001B[1;33m(\u001B[0m\u001B[0mm\u001B[0m\u001B[1;33m.\u001B[0m\u001B[0msum\u001B[0m\u001B[1;33m(\u001B[0m\u001B[0mwt\u001B[0m\u001B[1;33m[\u001B[0m\u001B[0ms\u001B[0m\u001B[1;33m]\u001B[0m \u001B[1;32mfor\u001B[0m \u001B[0ms\u001B[0m \u001B[1;32min\u001B[0m \u001B[0mwt\u001B[0m \u001B[1;33m==\u001B[0m\u001B[1;36m1\u001B[0m\u001B[1;33m)\u001B[0m\u001B[1;33m)\u001B[0m\u001B[1;33m\u001B[0m\u001B[1;33m\u001B[0m\u001B[0m\n\u001B[0m",
      "\u001B[1;32m~\\anaconda3\\envs\\myenv\\lib\\site-packages\\docplex\\mp\\model.py\u001B[0m in \u001B[0;36msum\u001B[1;34m(self, args)\u001B[0m\n\u001B[0;32m   3266\u001B[0m         \u001B[1;33m:\u001B[0m\u001B[1;32mreturn\u001B[0m\u001B[1;33m:\u001B[0m \u001B[0mA\u001B[0m \u001B[0mDocplex\u001B[0m \u001B[0mexpression\u001B[0m\u001B[1;33m.\u001B[0m\u001B[1;33m\u001B[0m\u001B[1;33m\u001B[0m\u001B[0m\n\u001B[0;32m   3267\u001B[0m         \"\"\"\n\u001B[1;32m-> 3268\u001B[1;33m         \u001B[1;32mreturn\u001B[0m \u001B[0mself\u001B[0m\u001B[1;33m.\u001B[0m\u001B[0m_aggregator\u001B[0m\u001B[1;33m.\u001B[0m\u001B[0msum\u001B[0m\u001B[1;33m(\u001B[0m\u001B[0margs\u001B[0m\u001B[1;33m)\u001B[0m\u001B[1;33m\u001B[0m\u001B[1;33m\u001B[0m\u001B[0m\n\u001B[0m\u001B[0;32m   3269\u001B[0m \u001B[1;33m\u001B[0m\u001B[0m\n\u001B[0;32m   3270\u001B[0m     \u001B[1;32mdef\u001B[0m \u001B[0msums\u001B[0m\u001B[1;33m(\u001B[0m\u001B[0mself\u001B[0m\u001B[1;33m,\u001B[0m \u001B[1;33m*\u001B[0m\u001B[0margs\u001B[0m\u001B[1;33m)\u001B[0m\u001B[1;33m:\u001B[0m\u001B[1;33m\u001B[0m\u001B[1;33m\u001B[0m\u001B[0m\n",
      "\u001B[1;32m~\\anaconda3\\envs\\myenv\\lib\\site-packages\\docplex\\mp\\aggregator.py\u001B[0m in \u001B[0;36msum\u001B[1;34m(self, sum_args)\u001B[0m\n\u001B[0;32m    196\u001B[0m     \u001B[1;32mdef\u001B[0m \u001B[0msum\u001B[0m\u001B[1;33m(\u001B[0m\u001B[0mself\u001B[0m\u001B[1;33m,\u001B[0m \u001B[0msum_args\u001B[0m\u001B[1;33m)\u001B[0m\u001B[1;33m:\u001B[0m\u001B[1;33m\u001B[0m\u001B[1;33m\u001B[0m\u001B[0m\n\u001B[0;32m    197\u001B[0m         \u001B[1;32mif\u001B[0m \u001B[0mis_iterator\u001B[0m\u001B[1;33m(\u001B[0m\u001B[0msum_args\u001B[0m\u001B[1;33m)\u001B[0m\u001B[1;33m:\u001B[0m\u001B[1;33m\u001B[0m\u001B[1;33m\u001B[0m\u001B[0m\n\u001B[1;32m--> 198\u001B[1;33m             \u001B[0msum_res\u001B[0m \u001B[1;33m=\u001B[0m \u001B[0mself\u001B[0m\u001B[1;33m.\u001B[0m\u001B[0m_sum_with_iter\u001B[0m\u001B[1;33m(\u001B[0m\u001B[0msum_args\u001B[0m\u001B[1;33m)\u001B[0m\u001B[1;33m\u001B[0m\u001B[1;33m\u001B[0m\u001B[0m\n\u001B[0m\u001B[0;32m    199\u001B[0m         \u001B[1;32melif\u001B[0m \u001B[0mis_numpy_ndarray\u001B[0m\u001B[1;33m(\u001B[0m\u001B[0msum_args\u001B[0m\u001B[1;33m)\u001B[0m\u001B[1;33m:\u001B[0m\u001B[1;33m\u001B[0m\u001B[1;33m\u001B[0m\u001B[0m\n\u001B[0;32m    200\u001B[0m             \u001B[0msum_res\u001B[0m \u001B[1;33m=\u001B[0m \u001B[0mself\u001B[0m\u001B[1;33m.\u001B[0m\u001B[0m_sum_with_iter\u001B[0m\u001B[1;33m(\u001B[0m\u001B[0msum_args\u001B[0m\u001B[1;33m.\u001B[0m\u001B[0mflat\u001B[0m\u001B[1;33m)\u001B[0m\u001B[1;33m\u001B[0m\u001B[1;33m\u001B[0m\u001B[0m\n",
      "\u001B[1;32m~\\anaconda3\\envs\\myenv\\lib\\site-packages\\docplex\\mp\\aggregator.py\u001B[0m in \u001B[0;36m_sum_with_iter\u001B[1;34m(self, args)\u001B[0m\n\u001B[0;32m    244\u001B[0m                         \u001B[0mupdate_dict_from_item_value\u001B[0m\u001B[1;33m(\u001B[0m\u001B[0mlcc\u001B[0m\u001B[1;33m,\u001B[0m \u001B[0mdv\u001B[0m\u001B[1;33m,\u001B[0m \u001B[0mk\u001B[0m\u001B[1;33m)\u001B[0m\u001B[1;33m\u001B[0m\u001B[1;33m\u001B[0m\u001B[0m\n\u001B[0;32m    245\u001B[0m                 \u001B[1;32mexcept\u001B[0m \u001B[0mAttributeError\u001B[0m\u001B[1;33m:\u001B[0m\u001B[1;33m\u001B[0m\u001B[1;33m\u001B[0m\u001B[0m\n\u001B[1;32m--> 246\u001B[1;33m                     \u001B[0mself\u001B[0m\u001B[1;33m.\u001B[0m\u001B[0m_model\u001B[0m\u001B[1;33m.\u001B[0m\u001B[0mfatal\u001B[0m\u001B[1;33m(\u001B[0m\u001B[1;34m\"Model.sum() expects numbers/variables/expressions, got: {0!s}\"\u001B[0m\u001B[1;33m,\u001B[0m \u001B[0mitem\u001B[0m\u001B[1;33m)\u001B[0m\u001B[1;33m\u001B[0m\u001B[1;33m\u001B[0m\u001B[0m\n\u001B[0m\u001B[0;32m    247\u001B[0m \u001B[1;33m\u001B[0m\u001B[0m\n\u001B[0;32m    248\u001B[0m         \u001B[1;32mreturn\u001B[0m \u001B[0mself\u001B[0m\u001B[1;33m.\u001B[0m\u001B[0m_to_expr\u001B[0m\u001B[1;33m(\u001B[0m\u001B[0mqcc\u001B[0m\u001B[1;33m,\u001B[0m \u001B[0mlcc\u001B[0m\u001B[1;33m,\u001B[0m \u001B[0msum_of_nums\u001B[0m\u001B[1;33m)\u001B[0m\u001B[1;33m\u001B[0m\u001B[1;33m\u001B[0m\u001B[0m\n",
      "\u001B[1;32m~\\anaconda3\\envs\\myenv\\lib\\site-packages\\docplex\\mp\\model.py\u001B[0m in \u001B[0;36mfatal\u001B[1;34m(self, msg, *args)\u001B[0m\n\u001B[0;32m   1076\u001B[0m \u001B[1;33m\u001B[0m\u001B[0m\n\u001B[0;32m   1077\u001B[0m     \u001B[1;32mdef\u001B[0m \u001B[0mfatal\u001B[0m\u001B[1;33m(\u001B[0m\u001B[0mself\u001B[0m\u001B[1;33m,\u001B[0m \u001B[0mmsg\u001B[0m\u001B[1;33m,\u001B[0m \u001B[1;33m*\u001B[0m\u001B[0margs\u001B[0m\u001B[1;33m)\u001B[0m\u001B[1;33m:\u001B[0m\u001B[1;33m\u001B[0m\u001B[1;33m\u001B[0m\u001B[0m\n\u001B[1;32m-> 1078\u001B[1;33m         \u001B[0mself\u001B[0m\u001B[1;33m.\u001B[0m\u001B[0m_error_handler\u001B[0m\u001B[1;33m.\u001B[0m\u001B[0mfatal\u001B[0m\u001B[1;33m(\u001B[0m\u001B[0mmsg\u001B[0m\u001B[1;33m,\u001B[0m \u001B[0margs\u001B[0m\u001B[1;33m)\u001B[0m\u001B[1;33m\u001B[0m\u001B[1;33m\u001B[0m\u001B[0m\n\u001B[0m\u001B[0;32m   1079\u001B[0m \u001B[1;33m\u001B[0m\u001B[0m\n\u001B[0;32m   1080\u001B[0m     \u001B[1;32mdef\u001B[0m \u001B[0mfatal_ce_limits\u001B[0m\u001B[1;33m(\u001B[0m\u001B[0mself\u001B[0m\u001B[1;33m,\u001B[0m \u001B[1;33m*\u001B[0m\u001B[0margs\u001B[0m\u001B[1;33m)\u001B[0m\u001B[1;33m:\u001B[0m\u001B[1;33m\u001B[0m\u001B[1;33m\u001B[0m\u001B[0m\n",
      "\u001B[1;32m~\\anaconda3\\envs\\myenv\\lib\\site-packages\\docplex\\mp\\error_handler.py\u001B[0m in \u001B[0;36mfatal\u001B[1;34m(self, msg, args)\u001B[0m\n\u001B[0;32m    208\u001B[0m         \u001B[0mresolved_message\u001B[0m \u001B[1;33m=\u001B[0m \u001B[0mresolve_pattern\u001B[0m\u001B[1;33m(\u001B[0m\u001B[0mmsg\u001B[0m\u001B[1;33m,\u001B[0m \u001B[0margs\u001B[0m\u001B[1;33m)\u001B[0m\u001B[1;33m\u001B[0m\u001B[1;33m\u001B[0m\u001B[0m\n\u001B[0;32m    209\u001B[0m         \u001B[0mdocplex_error_stop_here\u001B[0m\u001B[1;33m(\u001B[0m\u001B[1;33m)\u001B[0m\u001B[1;33m\u001B[0m\u001B[1;33m\u001B[0m\u001B[0m\n\u001B[1;32m--> 210\u001B[1;33m         \u001B[1;32mraise\u001B[0m \u001B[0mDOcplexException\u001B[0m\u001B[1;33m(\u001B[0m\u001B[0mresolved_message\u001B[0m\u001B[1;33m)\u001B[0m\u001B[1;33m\u001B[0m\u001B[1;33m\u001B[0m\u001B[0m\n\u001B[0m\u001B[0;32m    211\u001B[0m \u001B[1;33m\u001B[0m\u001B[0m\n\u001B[0;32m    212\u001B[0m     \u001B[1;32mdef\u001B[0m \u001B[0mfatal_limits_exceeded\u001B[0m\u001B[1;33m(\u001B[0m\u001B[0mself\u001B[0m\u001B[1;33m,\u001B[0m \u001B[0mnb_vars\u001B[0m\u001B[1;33m,\u001B[0m \u001B[0mnb_constraints\u001B[0m\u001B[1;33m)\u001B[0m\u001B[1;33m:\u001B[0m\u001B[1;33m\u001B[0m\u001B[1;33m\u001B[0m\u001B[0m\n",
      "\u001B[1;31mDOcplexException\u001B[0m: Model.sum() expects numbers/variables/expressions, got: []"
     ]
    }
   ],
   "source": [],
   "metadata": {
    "collapsed": false,
    "pycharm": {
     "name": "#%%\n"
    }
   }
  },
  {
   "cell_type": "code",
   "execution_count": 208,
   "outputs": [
    {
     "ename": "DOcplexException",
     "evalue": "cannot convert to expression: array([0.25, 0.25, 0.25, 0.25])",
     "output_type": "error",
     "traceback": [
      "\u001B[1;31m---------------------------------------------------------------------------\u001B[0m",
      "\u001B[1;31mAttributeError\u001B[0m                            Traceback (most recent call last)",
      "\u001B[1;32m~\\anaconda3\\envs\\myenv\\lib\\site-packages\\docplex\\mp\\mfactory.py\u001B[0m in \u001B[0;36m_to_expr\u001B[1;34m(self, e)\u001B[0m\n\u001B[0;32m    631\u001B[0m             \u001B[1;32mtry\u001B[0m\u001B[1;33m:\u001B[0m\u001B[1;33m\u001B[0m\u001B[1;33m\u001B[0m\u001B[0m\n\u001B[1;32m--> 632\u001B[1;33m                 \u001B[1;32mreturn\u001B[0m \u001B[0me\u001B[0m\u001B[1;33m.\u001B[0m\u001B[0mto_expr\u001B[0m\u001B[1;33m(\u001B[0m\u001B[1;33m)\u001B[0m\u001B[1;33m\u001B[0m\u001B[1;33m\u001B[0m\u001B[0m\n\u001B[0m\u001B[0;32m    633\u001B[0m             \u001B[1;32mexcept\u001B[0m \u001B[0mAttributeError\u001B[0m\u001B[1;33m:\u001B[0m\u001B[1;33m\u001B[0m\u001B[1;33m\u001B[0m\u001B[0m\n",
      "\u001B[1;31mAttributeError\u001B[0m: 'numpy.ndarray' object has no attribute 'to_expr'",
      "\nDuring handling of the above exception, another exception occurred:\n",
      "\u001B[1;31mDOcplexException\u001B[0m                          Traceback (most recent call last)",
      "\u001B[1;32m~\\AppData\\Local\\Temp/ipykernel_14508/1034731159.py\u001B[0m in \u001B[0;36m<module>\u001B[1;34m\u001B[0m\n\u001B[1;32m----> 1\u001B[1;33m \u001B[0mm\u001B[0m\u001B[1;33m.\u001B[0m\u001B[0mminimize\u001B[0m\u001B[1;33m(\u001B[0m\u001B[0mwt\u001B[0m\u001B[1;33m)\u001B[0m\u001B[1;33m\u001B[0m\u001B[1;33m\u001B[0m\u001B[0m\n\u001B[0m",
      "\u001B[1;32m~\\anaconda3\\envs\\myenv\\lib\\site-packages\\docplex\\mp\\model.py\u001B[0m in \u001B[0;36mminimize\u001B[1;34m(self, expr)\u001B[0m\n\u001B[0;32m   4199\u001B[0m         \u001B[1;33m:\u001B[0m\u001B[0mparam\u001B[0m \u001B[0mexpr\u001B[0m\u001B[1;33m:\u001B[0m \u001B[0mA\u001B[0m \u001B[0mlinear\u001B[0m \u001B[0mexpression\u001B[0m \u001B[1;32mor\u001B[0m \u001B[0ma\u001B[0m \u001B[0mvariable\u001B[0m\u001B[1;33m.\u001B[0m\u001B[1;33m\u001B[0m\u001B[1;33m\u001B[0m\u001B[0m\n\u001B[0;32m   4200\u001B[0m         \"\"\"\n\u001B[1;32m-> 4201\u001B[1;33m         \u001B[0mself\u001B[0m\u001B[1;33m.\u001B[0m\u001B[0mset_objective\u001B[0m\u001B[1;33m(\u001B[0m\u001B[0mObjectiveSense\u001B[0m\u001B[1;33m.\u001B[0m\u001B[0mMinimize\u001B[0m\u001B[1;33m,\u001B[0m \u001B[0mexpr\u001B[0m\u001B[1;33m)\u001B[0m\u001B[1;33m\u001B[0m\u001B[1;33m\u001B[0m\u001B[0m\n\u001B[0m\u001B[0;32m   4202\u001B[0m \u001B[1;33m\u001B[0m\u001B[0m\n\u001B[0;32m   4203\u001B[0m     \u001B[1;32mdef\u001B[0m \u001B[0mmaximize\u001B[0m\u001B[1;33m(\u001B[0m\u001B[0mself\u001B[0m\u001B[1;33m,\u001B[0m \u001B[0mexpr\u001B[0m\u001B[1;33m)\u001B[0m\u001B[1;33m:\u001B[0m\u001B[1;33m\u001B[0m\u001B[1;33m\u001B[0m\u001B[0m\n",
      "\u001B[1;32m~\\anaconda3\\envs\\myenv\\lib\\site-packages\\docplex\\mp\\model.py\u001B[0m in \u001B[0;36mset_objective\u001B[1;34m(self, sense, expr)\u001B[0m\n\u001B[0;32m   4616\u001B[0m         \"\"\"\n\u001B[0;32m   4617\u001B[0m         \u001B[0mself\u001B[0m\u001B[1;33m.\u001B[0m\u001B[0mset_objective_sense\u001B[0m\u001B[1;33m(\u001B[0m\u001B[0msense\u001B[0m\u001B[1;33m)\u001B[0m\u001B[1;33m\u001B[0m\u001B[1;33m\u001B[0m\u001B[0m\n\u001B[1;32m-> 4618\u001B[1;33m         \u001B[0mself\u001B[0m\u001B[1;33m.\u001B[0m\u001B[0mset_objective_expr\u001B[0m\u001B[1;33m(\u001B[0m\u001B[0mexpr\u001B[0m\u001B[1;33m)\u001B[0m\u001B[1;33m\u001B[0m\u001B[1;33m\u001B[0m\u001B[0m\n\u001B[0m\u001B[0;32m   4619\u001B[0m \u001B[1;33m\u001B[0m\u001B[0m\n\u001B[0;32m   4620\u001B[0m     \u001B[1;32mdef\u001B[0m \u001B[0mset_objective_sense\u001B[0m\u001B[1;33m(\u001B[0m\u001B[0mself\u001B[0m\u001B[1;33m,\u001B[0m \u001B[0msense\u001B[0m\u001B[1;33m)\u001B[0m\u001B[1;33m:\u001B[0m\u001B[1;33m\u001B[0m\u001B[1;33m\u001B[0m\u001B[0m\n",
      "\u001B[1;32m~\\anaconda3\\envs\\myenv\\lib\\site-packages\\docplex\\mp\\model.py\u001B[0m in \u001B[0;36mset_objective_expr\u001B[1;34m(self, new_objexpr, clear_multiobj)\u001B[0m\n\u001B[0;32m   4649\u001B[0m             \u001B[0mexpr\u001B[0m \u001B[1;33m=\u001B[0m \u001B[0mself\u001B[0m\u001B[1;33m.\u001B[0m\u001B[0m_new_default_objective_expr\u001B[0m\u001B[1;33m(\u001B[0m\u001B[1;33m)\u001B[0m\u001B[1;33m\u001B[0m\u001B[1;33m\u001B[0m\u001B[0m\n\u001B[0;32m   4650\u001B[0m         \u001B[1;32melse\u001B[0m\u001B[1;33m:\u001B[0m\u001B[1;33m\u001B[0m\u001B[1;33m\u001B[0m\u001B[0m\n\u001B[1;32m-> 4651\u001B[1;33m             \u001B[0mexpr\u001B[0m \u001B[1;33m=\u001B[0m \u001B[0mself\u001B[0m\u001B[1;33m.\u001B[0m\u001B[0m_lfactory\u001B[0m\u001B[1;33m.\u001B[0m\u001B[0m_to_expr\u001B[0m\u001B[1;33m(\u001B[0m\u001B[0mnew_objexpr\u001B[0m\u001B[1;33m)\u001B[0m\u001B[1;33m\u001B[0m\u001B[1;33m\u001B[0m\u001B[0m\n\u001B[0m\u001B[0;32m   4652\u001B[0m             \u001B[1;31m#expr.keep()\u001B[0m\u001B[1;33m\u001B[0m\u001B[1;33m\u001B[0m\u001B[0m\n\u001B[0;32m   4653\u001B[0m             \u001B[0mexpr\u001B[0m\u001B[1;33m.\u001B[0m\u001B[0mnotify_used\u001B[0m\u001B[1;33m(\u001B[0m\u001B[0mself\u001B[0m\u001B[1;33m)\u001B[0m\u001B[1;33m\u001B[0m\u001B[1;33m\u001B[0m\u001B[0m\n",
      "\u001B[1;32m~\\anaconda3\\envs\\myenv\\lib\\site-packages\\docplex\\mp\\mfactory.py\u001B[0m in \u001B[0;36m_to_expr\u001B[1;34m(self, e)\u001B[0m\n\u001B[0;32m    632\u001B[0m                 \u001B[1;32mreturn\u001B[0m \u001B[0me\u001B[0m\u001B[1;33m.\u001B[0m\u001B[0mto_expr\u001B[0m\u001B[1;33m(\u001B[0m\u001B[1;33m)\u001B[0m\u001B[1;33m\u001B[0m\u001B[1;33m\u001B[0m\u001B[0m\n\u001B[0;32m    633\u001B[0m             \u001B[1;32mexcept\u001B[0m \u001B[0mAttributeError\u001B[0m\u001B[1;33m:\u001B[0m\u001B[1;33m\u001B[0m\u001B[1;33m\u001B[0m\u001B[0m\n\u001B[1;32m--> 634\u001B[1;33m                 \u001B[0mself\u001B[0m\u001B[1;33m.\u001B[0m\u001B[0mfatal\u001B[0m\u001B[1;33m(\u001B[0m\u001B[1;34m\"cannot convert to expression: {0!r}\"\u001B[0m\u001B[1;33m,\u001B[0m \u001B[0me\u001B[0m\u001B[1;33m)\u001B[0m\u001B[1;33m\u001B[0m\u001B[1;33m\u001B[0m\u001B[0m\n\u001B[0m\u001B[0;32m    635\u001B[0m \u001B[1;33m\u001B[0m\u001B[0m\n\u001B[0;32m    636\u001B[0m     \u001B[1;32mdef\u001B[0m \u001B[0mnew_binary_constraint\u001B[0m\u001B[1;33m(\u001B[0m\u001B[0mself\u001B[0m\u001B[1;33m,\u001B[0m \u001B[0mlhs\u001B[0m\u001B[1;33m,\u001B[0m \u001B[0msense\u001B[0m\u001B[1;33m,\u001B[0m \u001B[0mrhs\u001B[0m\u001B[1;33m,\u001B[0m \u001B[0mname\u001B[0m\u001B[1;33m=\u001B[0m\u001B[1;32mNone\u001B[0m\u001B[1;33m)\u001B[0m\u001B[1;33m:\u001B[0m\u001B[1;33m\u001B[0m\u001B[1;33m\u001B[0m\u001B[0m\n",
      "\u001B[1;32m~\\anaconda3\\envs\\myenv\\lib\\site-packages\\docplex\\mp\\mfactory.py\u001B[0m in \u001B[0;36mfatal\u001B[1;34m(self, msg, *args)\u001B[0m\n\u001B[0;32m    206\u001B[0m \u001B[1;33m\u001B[0m\u001B[0m\n\u001B[0;32m    207\u001B[0m     \u001B[1;32mdef\u001B[0m \u001B[0mfatal\u001B[0m\u001B[1;33m(\u001B[0m\u001B[0mself\u001B[0m\u001B[1;33m,\u001B[0m \u001B[0mmsg\u001B[0m\u001B[1;33m,\u001B[0m \u001B[1;33m*\u001B[0m\u001B[0margs\u001B[0m\u001B[1;33m)\u001B[0m\u001B[1;33m:\u001B[0m\u001B[1;33m\u001B[0m\u001B[1;33m\u001B[0m\u001B[0m\n\u001B[1;32m--> 208\u001B[1;33m         \u001B[0mself\u001B[0m\u001B[1;33m.\u001B[0m\u001B[0m_model\u001B[0m\u001B[1;33m.\u001B[0m\u001B[0mfatal\u001B[0m\u001B[1;33m(\u001B[0m\u001B[0mmsg\u001B[0m\u001B[1;33m,\u001B[0m \u001B[1;33m*\u001B[0m\u001B[0margs\u001B[0m\u001B[1;33m)\u001B[0m\u001B[1;33m\u001B[0m\u001B[1;33m\u001B[0m\u001B[0m\n\u001B[0m\u001B[0;32m    209\u001B[0m \u001B[1;33m\u001B[0m\u001B[0m\n\u001B[0;32m    210\u001B[0m     \u001B[1;32mdef\u001B[0m \u001B[0mwarning\u001B[0m\u001B[1;33m(\u001B[0m\u001B[0mself\u001B[0m\u001B[1;33m,\u001B[0m \u001B[0mmsg\u001B[0m\u001B[1;33m,\u001B[0m \u001B[1;33m*\u001B[0m\u001B[0margs\u001B[0m\u001B[1;33m)\u001B[0m\u001B[1;33m:\u001B[0m\u001B[1;33m\u001B[0m\u001B[1;33m\u001B[0m\u001B[0m\n",
      "\u001B[1;32m~\\anaconda3\\envs\\myenv\\lib\\site-packages\\docplex\\mp\\model.py\u001B[0m in \u001B[0;36mfatal\u001B[1;34m(self, msg, *args)\u001B[0m\n\u001B[0;32m   1076\u001B[0m \u001B[1;33m\u001B[0m\u001B[0m\n\u001B[0;32m   1077\u001B[0m     \u001B[1;32mdef\u001B[0m \u001B[0mfatal\u001B[0m\u001B[1;33m(\u001B[0m\u001B[0mself\u001B[0m\u001B[1;33m,\u001B[0m \u001B[0mmsg\u001B[0m\u001B[1;33m,\u001B[0m \u001B[1;33m*\u001B[0m\u001B[0margs\u001B[0m\u001B[1;33m)\u001B[0m\u001B[1;33m:\u001B[0m\u001B[1;33m\u001B[0m\u001B[1;33m\u001B[0m\u001B[0m\n\u001B[1;32m-> 1078\u001B[1;33m         \u001B[0mself\u001B[0m\u001B[1;33m.\u001B[0m\u001B[0m_error_handler\u001B[0m\u001B[1;33m.\u001B[0m\u001B[0mfatal\u001B[0m\u001B[1;33m(\u001B[0m\u001B[0mmsg\u001B[0m\u001B[1;33m,\u001B[0m \u001B[0margs\u001B[0m\u001B[1;33m)\u001B[0m\u001B[1;33m\u001B[0m\u001B[1;33m\u001B[0m\u001B[0m\n\u001B[0m\u001B[0;32m   1079\u001B[0m \u001B[1;33m\u001B[0m\u001B[0m\n\u001B[0;32m   1080\u001B[0m     \u001B[1;32mdef\u001B[0m \u001B[0mfatal_ce_limits\u001B[0m\u001B[1;33m(\u001B[0m\u001B[0mself\u001B[0m\u001B[1;33m,\u001B[0m \u001B[1;33m*\u001B[0m\u001B[0margs\u001B[0m\u001B[1;33m)\u001B[0m\u001B[1;33m:\u001B[0m\u001B[1;33m\u001B[0m\u001B[1;33m\u001B[0m\u001B[0m\n",
      "\u001B[1;32m~\\anaconda3\\envs\\myenv\\lib\\site-packages\\docplex\\mp\\error_handler.py\u001B[0m in \u001B[0;36mfatal\u001B[1;34m(self, msg, args)\u001B[0m\n\u001B[0;32m    208\u001B[0m         \u001B[0mresolved_message\u001B[0m \u001B[1;33m=\u001B[0m \u001B[0mresolve_pattern\u001B[0m\u001B[1;33m(\u001B[0m\u001B[0mmsg\u001B[0m\u001B[1;33m,\u001B[0m \u001B[0margs\u001B[0m\u001B[1;33m)\u001B[0m\u001B[1;33m\u001B[0m\u001B[1;33m\u001B[0m\u001B[0m\n\u001B[0;32m    209\u001B[0m         \u001B[0mdocplex_error_stop_here\u001B[0m\u001B[1;33m(\u001B[0m\u001B[1;33m)\u001B[0m\u001B[1;33m\u001B[0m\u001B[1;33m\u001B[0m\u001B[0m\n\u001B[1;32m--> 210\u001B[1;33m         \u001B[1;32mraise\u001B[0m \u001B[0mDOcplexException\u001B[0m\u001B[1;33m(\u001B[0m\u001B[0mresolved_message\u001B[0m\u001B[1;33m)\u001B[0m\u001B[1;33m\u001B[0m\u001B[1;33m\u001B[0m\u001B[0m\n\u001B[0m\u001B[0;32m    211\u001B[0m \u001B[1;33m\u001B[0m\u001B[0m\n\u001B[0;32m    212\u001B[0m     \u001B[1;32mdef\u001B[0m \u001B[0mfatal_limits_exceeded\u001B[0m\u001B[1;33m(\u001B[0m\u001B[0mself\u001B[0m\u001B[1;33m,\u001B[0m \u001B[0mnb_vars\u001B[0m\u001B[1;33m,\u001B[0m \u001B[0mnb_constraints\u001B[0m\u001B[1;33m)\u001B[0m\u001B[1;33m:\u001B[0m\u001B[1;33m\u001B[0m\u001B[1;33m\u001B[0m\u001B[0m\n",
      "\u001B[1;31mDOcplexException\u001B[0m: cannot convert to expression: array([0.25, 0.25, 0.25, 0.25])"
     ]
    }
   ],
   "source": [
    "m.minimize(wt)"
   ],
   "metadata": {
    "collapsed": false,
    "pycharm": {
     "name": "#%%\n"
    }
   }
  },
  {
   "cell_type": "code",
   "execution_count": 208,
   "outputs": [],
   "source": [],
   "metadata": {
    "collapsed": false,
    "pycharm": {
     "name": "#%%\n"
    }
   }
  },
  {
   "cell_type": "code",
   "execution_count": null,
   "outputs": [],
   "source": [],
   "metadata": {
    "collapsed": false,
    "pycharm": {
     "name": "#%%\n"
    }
   }
  },
  {
   "cell_type": "code",
   "execution_count": null,
   "outputs": [],
   "source": [],
   "metadata": {
    "collapsed": false,
    "pycharm": {
     "name": "#%%\n"
    }
   }
  },
  {
   "cell_type": "code",
   "execution_count": null,
   "outputs": [],
   "source": [],
   "metadata": {
    "collapsed": false,
    "pycharm": {
     "name": "#%%\n"
    }
   }
  },
  {
   "cell_type": "code",
   "execution_count": null,
   "outputs": [],
   "source": [],
   "metadata": {
    "collapsed": false,
    "pycharm": {
     "name": "#%%\n"
    }
   }
  },
  {
   "cell_type": "code",
   "execution_count": 14,
   "outputs": [],
   "source": [
    "weights = []\n",
    "for i in range(len(tickers)):\n",
    "    weights.append(0.5)"
   ],
   "metadata": {
    "collapsed": false,
    "pycharm": {
     "name": "#%%\n"
    }
   }
  },
  {
   "cell_type": "code",
   "execution_count": 15,
   "outputs": [
    {
     "data": {
      "text/plain": "0.5"
     },
     "execution_count": 15,
     "metadata": {},
     "output_type": "execute_result"
    }
   ],
   "source": [
    "weights[2]"
   ],
   "metadata": {
    "collapsed": false,
    "pycharm": {
     "name": "#%%\n"
    }
   }
  },
  {
   "cell_type": "code",
   "execution_count": 15,
   "outputs": [],
   "source": [],
   "metadata": {
    "collapsed": false,
    "pycharm": {
     "name": "#%%\n"
    }
   }
  },
  {
   "cell_type": "code",
   "execution_count": 16,
   "outputs": [],
   "source": [
    "def weighted_cov(weights):\n",
    "    cvv=pd.DataFrame()\n",
    "    cv = []\n",
    "    size = len(weights)\n",
    "    for i in range(size):\n",
    "        if len(cv) != 0:\n",
    "            cvv = cvv.append([cv])\n",
    "        cv = []\n",
    "        for j in range(size):\n",
    "           cv.append(cov.iloc[[i],[j]].values *weights[i] *weights[j])\n",
    "           if i == 3 and j == 3:\n",
    "               cvv = cvv.append([cv])\n",
    "    cvv = cvv.astype('float64')\n",
    "    cvv.columns = data3.columns\n",
    "    cvv.index =data3.columns\n",
    "    return cvv"
   ],
   "metadata": {
    "collapsed": false,
    "pycharm": {
     "name": "#%%\n"
    }
   }
  },
  {
   "cell_type": "code",
   "execution_count": 17,
   "outputs": [],
   "source": [
    "t = weighted_cov(weights)"
   ],
   "metadata": {
    "collapsed": false,
    "pycharm": {
     "name": "#%%\n"
    }
   }
  },
  {
   "cell_type": "code",
   "execution_count": 18,
   "outputs": [
    {
     "data": {
      "text/plain": "          AAPL       AMD      BABA       TSM\nAAPL  0.002243  0.002210  0.000566  0.001110\nAMD   0.002210  0.005321  0.000460  0.002059\nBABA  0.000566  0.000460  0.002559  0.000863\nTSM   0.001110  0.002059  0.000863  0.002559",
      "text/html": "<div>\n<style scoped>\n    .dataframe tbody tr th:only-of-type {\n        vertical-align: middle;\n    }\n\n    .dataframe tbody tr th {\n        vertical-align: top;\n    }\n\n    .dataframe thead th {\n        text-align: right;\n    }\n</style>\n<table border=\"1\" class=\"dataframe\">\n  <thead>\n    <tr style=\"text-align: right;\">\n      <th></th>\n      <th>AAPL</th>\n      <th>AMD</th>\n      <th>BABA</th>\n      <th>TSM</th>\n    </tr>\n  </thead>\n  <tbody>\n    <tr>\n      <th>AAPL</th>\n      <td>0.002243</td>\n      <td>0.002210</td>\n      <td>0.000566</td>\n      <td>0.001110</td>\n    </tr>\n    <tr>\n      <th>AMD</th>\n      <td>0.002210</td>\n      <td>0.005321</td>\n      <td>0.000460</td>\n      <td>0.002059</td>\n    </tr>\n    <tr>\n      <th>BABA</th>\n      <td>0.000566</td>\n      <td>0.000460</td>\n      <td>0.002559</td>\n      <td>0.000863</td>\n    </tr>\n    <tr>\n      <th>TSM</th>\n      <td>0.001110</td>\n      <td>0.002059</td>\n      <td>0.000863</td>\n      <td>0.002559</td>\n    </tr>\n  </tbody>\n</table>\n</div>"
     },
     "execution_count": 18,
     "metadata": {},
     "output_type": "execute_result"
    }
   ],
   "source": [
    "t"
   ],
   "metadata": {
    "collapsed": false,
    "pycharm": {
     "name": "#%%\n"
    }
   }
  },
  {
   "cell_type": "code",
   "execution_count": 19,
   "outputs": [],
   "source": [
    "def summary():\n",
    "    mean = (data3.mean() * [x for x in weights]).sum()\n",
    "    var = weighted_cov(weights).sum().sum()\n",
    "    std = np.sqrt(var)\n",
    "    return mean, var, std"
   ],
   "metadata": {
    "collapsed": false,
    "pycharm": {
     "name": "#%%\n"
    }
   }
  },
  {
   "cell_type": "code",
   "execution_count": 19,
   "outputs": [],
   "source": [],
   "metadata": {
    "collapsed": false,
    "pycharm": {
     "name": "#%%\n"
    }
   }
  },
  {
   "cell_type": "code",
   "execution_count": 19,
   "outputs": [],
   "source": [],
   "metadata": {
    "collapsed": false,
    "pycharm": {
     "name": "#%%\n"
    }
   }
  },
  {
   "cell_type": "code",
   "execution_count": 19,
   "outputs": [],
   "source": [],
   "metadata": {
    "collapsed": false,
    "pycharm": {
     "name": "#%%\n"
    }
   }
  },
  {
   "cell_type": "code",
   "execution_count": 20,
   "outputs": [
    {
     "ename": "NameError",
     "evalue": "name 'prob' is not defined",
     "output_type": "error",
     "traceback": [
      "\u001B[1;31m---------------------------------------------------------------------------\u001B[0m",
      "\u001B[1;31mNameError\u001B[0m                                 Traceback (most recent call last)",
      "\u001B[1;32m~\\AppData\\Local\\Temp/ipykernel_14508/60575158.py\u001B[0m in \u001B[0;36m<module>\u001B[1;34m\u001B[0m\n\u001B[1;32m----> 1\u001B[1;33m \u001B[0mprob\u001B[0m\u001B[1;33m.\u001B[0m\u001B[0msolve\u001B[0m\u001B[1;33m(\u001B[0m\u001B[1;33m)\u001B[0m\u001B[1;33m\u001B[0m\u001B[1;33m\u001B[0m\u001B[0m\n\u001B[0m",
      "\u001B[1;31mNameError\u001B[0m: name 'prob' is not defined"
     ]
    }
   ],
   "source": [
    "prob.solve()"
   ],
   "metadata": {
    "collapsed": false,
    "pycharm": {
     "name": "#%%\n"
    }
   }
  },
  {
   "cell_type": "code",
   "execution_count": null,
   "outputs": [],
   "source": [],
   "metadata": {
    "collapsed": false,
    "pycharm": {
     "name": "#%%\n"
    }
   }
  },
  {
   "cell_type": "code",
   "execution_count": null,
   "outputs": [],
   "source": [
    "x"
   ],
   "metadata": {
    "collapsed": false,
    "pycharm": {
     "name": "#%%\n"
    }
   }
  },
  {
   "cell_type": "code",
   "execution_count": null,
   "outputs": [],
   "source": [],
   "metadata": {
    "collapsed": false,
    "pycharm": {
     "name": "#%%\n"
    }
   }
  },
  {
   "cell_type": "code",
   "execution_count": null,
   "outputs": [],
   "source": [],
   "metadata": {
    "collapsed": false,
    "pycharm": {
     "name": "#%%\n"
    }
   }
  },
  {
   "cell_type": "code",
   "execution_count": null,
   "outputs": [],
   "source": [],
   "metadata": {
    "collapsed": false,
    "pycharm": {
     "name": "#%%\n"
    }
   }
  }
 ],
 "metadata": {
  "kernelspec": {
   "display_name": "Python 3",
   "language": "python",
   "name": "python3"
  },
  "language_info": {
   "codemirror_mode": {
    "name": "ipython",
    "version": 2
   },
   "file_extension": ".py",
   "mimetype": "text/x-python",
   "name": "python",
   "nbconvert_exporter": "python",
   "pygments_lexer": "ipython2",
   "version": "2.7.6"
  }
 },
 "nbformat": 4,
 "nbformat_minor": 0
}