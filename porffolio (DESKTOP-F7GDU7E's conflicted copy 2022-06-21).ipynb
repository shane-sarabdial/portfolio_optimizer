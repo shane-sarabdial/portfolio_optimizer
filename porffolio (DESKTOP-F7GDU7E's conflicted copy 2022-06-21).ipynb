{
 "cells": [
  {
   "cell_type": "code",
   "execution_count": 60,
   "outputs": [],
   "source": [
    "import copy\n",
    "import datetime\n",
    "\n",
    "import streamlit as st\n",
    "import numpy as np\n",
    "import pandas as pd\n",
    "import yfinance as yf\n",
    "import pypfopt\n",
    "from pypfopt import expected_returns\n",
    "from pypfopt import EfficientFrontier\n",
    "from pypfopt import plotting\n",
    "\n",
    "from pypfopt import risk_models\n",
    "import seaborn as sn\n",
    "import matplotlib.pyplot as plt"
   ],
   "metadata": {
    "collapsed": false,
    "pycharm": {
     "name": "#%%\n"
    }
   }
  },
  {
   "cell_type": "code",
   "execution_count": 61,
   "outputs": [],
   "source": [
    "tickers = ['SPY','AAPL','JPM','MSFT']"
   ],
   "metadata": {
    "collapsed": false,
    "pycharm": {
     "name": "#%%\n"
    }
   }
  },
  {
   "cell_type": "code",
   "execution_count": 62,
   "outputs": [
    {
     "name": "stdout",
     "output_type": "stream",
     "text": [
      "[*********************100%***********************]  5 of 5 completed\n"
     ]
    }
   ],
   "source": [
    "data =yf.download(tickers, start='2020-01-01', end='2021-12-31')"
   ],
   "metadata": {
    "collapsed": false,
    "pycharm": {
     "name": "#%%\n"
    }
   }
  },
  {
   "cell_type": "code",
   "execution_count": 63,
   "outputs": [
    {
     "data": {
      "text/plain": "            Adj Close                                                 \\\n                 AAPL         GE         JPM        MSFT         SPY   \nDate                                                                   \n2020-01-02  73.785912  94.574493  131.048004  156.924377  312.395050   \n2020-01-03  73.068558  94.891586  129.318634  154.970413  310.029541   \n2020-01-06  73.650795  96.239258  129.215805  155.370956  311.212311   \n2020-01-07  73.304413  95.525780  127.019035  153.954346  310.337219   \n2020-01-08  74.483604  94.653763  128.009918  156.406601  311.991211   \n\n                Close                                                 ...  \\\n                 AAPL         GE         JPM        MSFT         SPY  ...   \nDate                                                                  ...   \n2020-01-02  75.087502  95.440002  141.089996  160.619995  324.869995  ...   \n2020-01-03  74.357498  95.760002  138.339996  158.619995  322.410004  ...   \n2020-01-06  74.949997  97.120003  138.229996  159.029999  323.640015  ...   \n2020-01-07  74.597504  96.400002  135.880005  157.580002  322.730011  ...   \n2020-01-08  75.797501  95.519997  136.940002  160.089996  324.450012  ...   \n\n                 Open                                                 \\\n                 AAPL         GE         JPM        MSFT         SPY   \nDate                                                                   \n2020-01-02  74.059998  89.839996  139.789993  158.779999  323.540009   \n2020-01-03  74.287498  92.559998  137.500000  158.320007  321.160004   \n2020-01-06  73.447502  94.720001  136.559998  157.080002  320.489990   \n2020-01-07  74.959999  97.199997  137.279999  159.320007  323.019989   \n2020-01-08  74.290001  95.919998  135.699997  158.929993  322.940002   \n\n               Volume                                          \n                 AAPL        GE       JPM      MSFT       SPY  \nDate                                                           \n2020-01-02  135480400  10927725  10803700  22622100  59151200  \n2020-01-03  146322800  10735725  10386800  21116200  77709700  \n2020-01-06  118387200  13993588  10259000  20813700  55653900  \n2020-01-07  108872000   8822413  10531300  21634100  40496400  \n2020-01-08  132079200   6925313   9695300  27746500  68296000  \n\n[5 rows x 30 columns]",
      "text/html": "<div>\n<style scoped>\n    .dataframe tbody tr th:only-of-type {\n        vertical-align: middle;\n    }\n\n    .dataframe tbody tr th {\n        vertical-align: top;\n    }\n\n    .dataframe thead tr th {\n        text-align: left;\n    }\n\n    .dataframe thead tr:last-of-type th {\n        text-align: right;\n    }\n</style>\n<table border=\"1\" class=\"dataframe\">\n  <thead>\n    <tr>\n      <th></th>\n      <th colspan=\"5\" halign=\"left\">Adj Close</th>\n      <th colspan=\"5\" halign=\"left\">Close</th>\n      <th>...</th>\n      <th colspan=\"5\" halign=\"left\">Open</th>\n      <th colspan=\"5\" halign=\"left\">Volume</th>\n    </tr>\n    <tr>\n      <th></th>\n      <th>AAPL</th>\n      <th>GE</th>\n      <th>JPM</th>\n      <th>MSFT</th>\n      <th>SPY</th>\n      <th>AAPL</th>\n      <th>GE</th>\n      <th>JPM</th>\n      <th>MSFT</th>\n      <th>SPY</th>\n      <th>...</th>\n      <th>AAPL</th>\n      <th>GE</th>\n      <th>JPM</th>\n      <th>MSFT</th>\n      <th>SPY</th>\n      <th>AAPL</th>\n      <th>GE</th>\n      <th>JPM</th>\n      <th>MSFT</th>\n      <th>SPY</th>\n    </tr>\n    <tr>\n      <th>Date</th>\n      <th></th>\n      <th></th>\n      <th></th>\n      <th></th>\n      <th></th>\n      <th></th>\n      <th></th>\n      <th></th>\n      <th></th>\n      <th></th>\n      <th></th>\n      <th></th>\n      <th></th>\n      <th></th>\n      <th></th>\n      <th></th>\n      <th></th>\n      <th></th>\n      <th></th>\n      <th></th>\n      <th></th>\n    </tr>\n  </thead>\n  <tbody>\n    <tr>\n      <th>2020-01-02</th>\n      <td>73.785912</td>\n      <td>94.574493</td>\n      <td>131.048004</td>\n      <td>156.924377</td>\n      <td>312.395050</td>\n      <td>75.087502</td>\n      <td>95.440002</td>\n      <td>141.089996</td>\n      <td>160.619995</td>\n      <td>324.869995</td>\n      <td>...</td>\n      <td>74.059998</td>\n      <td>89.839996</td>\n      <td>139.789993</td>\n      <td>158.779999</td>\n      <td>323.540009</td>\n      <td>135480400</td>\n      <td>10927725</td>\n      <td>10803700</td>\n      <td>22622100</td>\n      <td>59151200</td>\n    </tr>\n    <tr>\n      <th>2020-01-03</th>\n      <td>73.068558</td>\n      <td>94.891586</td>\n      <td>129.318634</td>\n      <td>154.970413</td>\n      <td>310.029541</td>\n      <td>74.357498</td>\n      <td>95.760002</td>\n      <td>138.339996</td>\n      <td>158.619995</td>\n      <td>322.410004</td>\n      <td>...</td>\n      <td>74.287498</td>\n      <td>92.559998</td>\n      <td>137.500000</td>\n      <td>158.320007</td>\n      <td>321.160004</td>\n      <td>146322800</td>\n      <td>10735725</td>\n      <td>10386800</td>\n      <td>21116200</td>\n      <td>77709700</td>\n    </tr>\n    <tr>\n      <th>2020-01-06</th>\n      <td>73.650795</td>\n      <td>96.239258</td>\n      <td>129.215805</td>\n      <td>155.370956</td>\n      <td>311.212311</td>\n      <td>74.949997</td>\n      <td>97.120003</td>\n      <td>138.229996</td>\n      <td>159.029999</td>\n      <td>323.640015</td>\n      <td>...</td>\n      <td>73.447502</td>\n      <td>94.720001</td>\n      <td>136.559998</td>\n      <td>157.080002</td>\n      <td>320.489990</td>\n      <td>118387200</td>\n      <td>13993588</td>\n      <td>10259000</td>\n      <td>20813700</td>\n      <td>55653900</td>\n    </tr>\n    <tr>\n      <th>2020-01-07</th>\n      <td>73.304413</td>\n      <td>95.525780</td>\n      <td>127.019035</td>\n      <td>153.954346</td>\n      <td>310.337219</td>\n      <td>74.597504</td>\n      <td>96.400002</td>\n      <td>135.880005</td>\n      <td>157.580002</td>\n      <td>322.730011</td>\n      <td>...</td>\n      <td>74.959999</td>\n      <td>97.199997</td>\n      <td>137.279999</td>\n      <td>159.320007</td>\n      <td>323.019989</td>\n      <td>108872000</td>\n      <td>8822413</td>\n      <td>10531300</td>\n      <td>21634100</td>\n      <td>40496400</td>\n    </tr>\n    <tr>\n      <th>2020-01-08</th>\n      <td>74.483604</td>\n      <td>94.653763</td>\n      <td>128.009918</td>\n      <td>156.406601</td>\n      <td>311.991211</td>\n      <td>75.797501</td>\n      <td>95.519997</td>\n      <td>136.940002</td>\n      <td>160.089996</td>\n      <td>324.450012</td>\n      <td>...</td>\n      <td>74.290001</td>\n      <td>95.919998</td>\n      <td>135.699997</td>\n      <td>158.929993</td>\n      <td>322.940002</td>\n      <td>132079200</td>\n      <td>6925313</td>\n      <td>9695300</td>\n      <td>27746500</td>\n      <td>68296000</td>\n    </tr>\n  </tbody>\n</table>\n<p>5 rows × 30 columns</p>\n</div>"
     },
     "execution_count": 63,
     "metadata": {},
     "output_type": "execute_result"
    }
   ],
   "source": [
    "data.head()"
   ],
   "metadata": {
    "collapsed": false,
    "pycharm": {
     "name": "#%%\n"
    }
   }
  },
  {
   "cell_type": "code",
   "execution_count": 64,
   "outputs": [],
   "source": [
    "data2 = data['Adj Close']"
   ],
   "metadata": {
    "collapsed": false,
    "pycharm": {
     "name": "#%%\n"
    }
   }
  },
  {
   "cell_type": "code",
   "execution_count": 65,
   "outputs": [],
   "source": [
    "mu = expected_returns.mean_historical_return(data2)"
   ],
   "metadata": {
    "collapsed": false,
    "pycharm": {
     "name": "#%%\n"
    }
   }
  },
  {
   "cell_type": "code",
   "execution_count": 70,
   "outputs": [],
   "source": [
    "cov = risk_models.sample_cov(data2)"
   ],
   "metadata": {
    "collapsed": false,
    "pycharm": {
     "name": "#%%\n"
    }
   }
  },
  {
   "cell_type": "code",
   "execution_count": 72,
   "outputs": [
    {
     "ename": "TypeError",
     "evalue": "'>=' not supported between instances of 'odict_items' and 'int'",
     "output_type": "error",
     "traceback": [
      "\u001B[1;31m---------------------------------------------------------------------------\u001B[0m",
      "\u001B[1;31mTypeError\u001B[0m                                 Traceback (most recent call last)",
      "\u001B[1;32m~\\AppData\\Local\\Temp/ipykernel_3828/2987063154.py\u001B[0m in \u001B[0;36m<module>\u001B[1;34m\u001B[0m\n\u001B[0;32m      1\u001B[0m \u001B[0mef\u001B[0m \u001B[1;33m=\u001B[0m \u001B[0mEfficientFrontier\u001B[0m\u001B[1;33m(\u001B[0m\u001B[0mmu\u001B[0m\u001B[1;33m,\u001B[0m \u001B[0mcov\u001B[0m\u001B[1;33m,\u001B[0m \u001B[0mweight_bounds\u001B[0m\u001B[1;33m=\u001B[0m\u001B[1;33m(\u001B[0m\u001B[1;36m0\u001B[0m\u001B[1;33m,\u001B[0m\u001B[1;36m1\u001B[0m\u001B[1;33m)\u001B[0m\u001B[1;33m)\u001B[0m\u001B[1;33m\u001B[0m\u001B[1;33m\u001B[0m\u001B[0m\n\u001B[1;32m----> 2\u001B[1;33m \u001B[0mef\u001B[0m\u001B[1;33m.\u001B[0m\u001B[0madd_constraint\u001B[0m\u001B[1;33m(\u001B[0m\u001B[1;32mlambda\u001B[0m \u001B[0mx\u001B[0m\u001B[1;33m:\u001B[0m \u001B[0mnp\u001B[0m\u001B[1;33m.\u001B[0m\u001B[0msum\u001B[0m\u001B[1;33m(\u001B[0m\u001B[1;33m[\u001B[0m\u001B[0mef\u001B[0m\u001B[1;33m.\u001B[0m\u001B[0mmax_sharpe\u001B[0m\u001B[1;33m(\u001B[0m\u001B[1;33m)\u001B[0m\u001B[1;33m.\u001B[0m\u001B[0mitems\u001B[0m\u001B[1;33m(\u001B[0m\u001B[1;33m)\u001B[0m\u001B[1;33m]\u001B[0m\u001B[1;33m)\u001B[0m \u001B[1;33m>=\u001B[0m \u001B[1;36m1\u001B[0m\u001B[1;33m)\u001B[0m\u001B[1;33m\u001B[0m\u001B[1;33m\u001B[0m\u001B[0m\n\u001B[0m",
      "\u001B[1;32m~\\anaconda3\\envs\\port\\lib\\site-packages\\pypfopt\\base_optimizer.py\u001B[0m in \u001B[0;36madd_constraint\u001B[1;34m(self, new_constraint)\u001B[0m\n\u001B[0;32m    349\u001B[0m                 \u001B[1;34m\"A new instance should be created for the new set of constraints.\"\u001B[0m\u001B[1;33m\u001B[0m\u001B[1;33m\u001B[0m\u001B[0m\n\u001B[0;32m    350\u001B[0m             )\n\u001B[1;32m--> 351\u001B[1;33m         \u001B[0mself\u001B[0m\u001B[1;33m.\u001B[0m\u001B[0m_constraints\u001B[0m\u001B[1;33m.\u001B[0m\u001B[0mappend\u001B[0m\u001B[1;33m(\u001B[0m\u001B[0mnew_constraint\u001B[0m\u001B[1;33m(\u001B[0m\u001B[0mself\u001B[0m\u001B[1;33m.\u001B[0m\u001B[0m_w\u001B[0m\u001B[1;33m)\u001B[0m\u001B[1;33m)\u001B[0m\u001B[1;33m\u001B[0m\u001B[1;33m\u001B[0m\u001B[0m\n\u001B[0m\u001B[0;32m    352\u001B[0m \u001B[1;33m\u001B[0m\u001B[0m\n\u001B[0;32m    353\u001B[0m     \u001B[1;32mdef\u001B[0m \u001B[0madd_sector_constraints\u001B[0m\u001B[1;33m(\u001B[0m\u001B[0mself\u001B[0m\u001B[1;33m,\u001B[0m \u001B[0msector_mapper\u001B[0m\u001B[1;33m,\u001B[0m \u001B[0msector_lower\u001B[0m\u001B[1;33m,\u001B[0m \u001B[0msector_upper\u001B[0m\u001B[1;33m)\u001B[0m\u001B[1;33m:\u001B[0m\u001B[1;33m\u001B[0m\u001B[1;33m\u001B[0m\u001B[0m\n",
      "\u001B[1;32m~\\AppData\\Local\\Temp/ipykernel_3828/2987063154.py\u001B[0m in \u001B[0;36m<lambda>\u001B[1;34m(x)\u001B[0m\n\u001B[0;32m      1\u001B[0m \u001B[0mef\u001B[0m \u001B[1;33m=\u001B[0m \u001B[0mEfficientFrontier\u001B[0m\u001B[1;33m(\u001B[0m\u001B[0mmu\u001B[0m\u001B[1;33m,\u001B[0m \u001B[0mcov\u001B[0m\u001B[1;33m,\u001B[0m \u001B[0mweight_bounds\u001B[0m\u001B[1;33m=\u001B[0m\u001B[1;33m(\u001B[0m\u001B[1;36m0\u001B[0m\u001B[1;33m,\u001B[0m\u001B[1;36m1\u001B[0m\u001B[1;33m)\u001B[0m\u001B[1;33m)\u001B[0m\u001B[1;33m\u001B[0m\u001B[1;33m\u001B[0m\u001B[0m\n\u001B[1;32m----> 2\u001B[1;33m \u001B[0mef\u001B[0m\u001B[1;33m.\u001B[0m\u001B[0madd_constraint\u001B[0m\u001B[1;33m(\u001B[0m\u001B[1;32mlambda\u001B[0m \u001B[0mx\u001B[0m\u001B[1;33m:\u001B[0m \u001B[0mnp\u001B[0m\u001B[1;33m.\u001B[0m\u001B[0msum\u001B[0m\u001B[1;33m(\u001B[0m\u001B[1;33m[\u001B[0m\u001B[0mef\u001B[0m\u001B[1;33m.\u001B[0m\u001B[0mmax_sharpe\u001B[0m\u001B[1;33m(\u001B[0m\u001B[1;33m)\u001B[0m\u001B[1;33m.\u001B[0m\u001B[0mitems\u001B[0m\u001B[1;33m(\u001B[0m\u001B[1;33m)\u001B[0m\u001B[1;33m]\u001B[0m\u001B[1;33m)\u001B[0m \u001B[1;33m>=\u001B[0m \u001B[1;36m1\u001B[0m\u001B[1;33m)\u001B[0m\u001B[1;33m\u001B[0m\u001B[1;33m\u001B[0m\u001B[0m\n\u001B[0m",
      "\u001B[1;31mTypeError\u001B[0m: '>=' not supported between instances of 'odict_items' and 'int'"
     ]
    }
   ],
   "source": [
    "ef = EfficientFrontier(mu, cov, weight_bounds=(0,1))"
   ],
   "metadata": {
    "collapsed": false,
    "pycharm": {
     "name": "#%%\n"
    }
   }
  },
  {
   "cell_type": "code",
   "execution_count": 68,
   "outputs": [
    {
     "ename": "OptimizationError",
     "evalue": "('Please check your objectives/constraints or use a different solver.', 'Solver status: infeasible')",
     "output_type": "error",
     "traceback": [
      "\u001B[1;31m---------------------------------------------------------------------------\u001B[0m",
      "\u001B[1;31mOptimizationError\u001B[0m                         Traceback (most recent call last)",
      "\u001B[1;32m~\\AppData\\Local\\Temp/ipykernel_3828/207812581.py\u001B[0m in \u001B[0;36m<module>\u001B[1;34m\u001B[0m\n\u001B[0;32m      1\u001B[0m \u001B[0mfig\u001B[0m\u001B[1;33m,\u001B[0m \u001B[0max\u001B[0m \u001B[1;33m=\u001B[0m \u001B[0mplt\u001B[0m\u001B[1;33m.\u001B[0m\u001B[0msubplots\u001B[0m\u001B[1;33m(\u001B[0m\u001B[1;33m)\u001B[0m\u001B[1;33m\u001B[0m\u001B[1;33m\u001B[0m\u001B[0m\n\u001B[0;32m      2\u001B[0m \u001B[0mef_max_sharpe\u001B[0m \u001B[1;33m=\u001B[0m \u001B[0mcopy\u001B[0m\u001B[1;33m.\u001B[0m\u001B[0mdeepcopy\u001B[0m\u001B[1;33m(\u001B[0m\u001B[0mef\u001B[0m\u001B[1;33m)\u001B[0m\u001B[1;33m\u001B[0m\u001B[1;33m\u001B[0m\u001B[0m\n\u001B[1;32m----> 3\u001B[1;33m \u001B[0mplotting\u001B[0m\u001B[1;33m.\u001B[0m\u001B[0mplot_efficient_frontier\u001B[0m\u001B[1;33m(\u001B[0m\u001B[0mef\u001B[0m\u001B[1;33m,\u001B[0m \u001B[0max\u001B[0m\u001B[1;33m=\u001B[0m\u001B[0max\u001B[0m\u001B[1;33m,\u001B[0m \u001B[0mshow_assets\u001B[0m\u001B[1;33m=\u001B[0m\u001B[1;32mFalse\u001B[0m\u001B[1;33m,\u001B[0m \u001B[0mzorder\u001B[0m\u001B[1;33m=\u001B[0m\u001B[1;36m10\u001B[0m\u001B[1;33m)\u001B[0m\u001B[1;33m\u001B[0m\u001B[1;33m\u001B[0m\u001B[0m\n\u001B[0m\u001B[0;32m      4\u001B[0m \u001B[1;33m\u001B[0m\u001B[0m\n\u001B[0;32m      5\u001B[0m \u001B[1;31m# Find the tangency portfolio\u001B[0m\u001B[1;33m\u001B[0m\u001B[1;33m\u001B[0m\u001B[0m\n",
      "\u001B[1;32m~\\anaconda3\\envs\\port\\lib\\site-packages\\pypfopt\\plotting.py\u001B[0m in \u001B[0;36mplot_efficient_frontier\u001B[1;34m(opt, ef_param, ef_param_range, points, ax, show_assets, show_tickers, **kwargs)\u001B[0m\n\u001B[0;32m    259\u001B[0m     \u001B[1;32melif\u001B[0m \u001B[0misinstance\u001B[0m\u001B[1;33m(\u001B[0m\u001B[0mopt\u001B[0m\u001B[1;33m,\u001B[0m \u001B[0mEfficientFrontier\u001B[0m\u001B[1;33m)\u001B[0m\u001B[1;33m:\u001B[0m\u001B[1;33m\u001B[0m\u001B[1;33m\u001B[0m\u001B[0m\n\u001B[0;32m    260\u001B[0m         \u001B[1;32mif\u001B[0m \u001B[0mef_param_range\u001B[0m \u001B[1;32mis\u001B[0m \u001B[1;32mNone\u001B[0m\u001B[1;33m:\u001B[0m\u001B[1;33m\u001B[0m\u001B[1;33m\u001B[0m\u001B[0m\n\u001B[1;32m--> 261\u001B[1;33m             \u001B[0mef_param_range\u001B[0m \u001B[1;33m=\u001B[0m \u001B[0m_ef_default_returns_range\u001B[0m\u001B[1;33m(\u001B[0m\u001B[0mopt\u001B[0m\u001B[1;33m,\u001B[0m \u001B[0mpoints\u001B[0m\u001B[1;33m)\u001B[0m\u001B[1;33m\u001B[0m\u001B[1;33m\u001B[0m\u001B[0m\n\u001B[0m\u001B[0;32m    262\u001B[0m \u001B[1;33m\u001B[0m\u001B[0m\n\u001B[0;32m    263\u001B[0m         ax = _plot_ef(\n",
      "\u001B[1;32m~\\anaconda3\\envs\\port\\lib\\site-packages\\pypfopt\\plotting.py\u001B[0m in \u001B[0;36m_ef_default_returns_range\u001B[1;34m(ef, points)\u001B[0m\n\u001B[0;32m    160\u001B[0m     \u001B[0mef_maxret\u001B[0m \u001B[1;33m=\u001B[0m \u001B[0mcopy\u001B[0m\u001B[1;33m.\u001B[0m\u001B[0mdeepcopy\u001B[0m\u001B[1;33m(\u001B[0m\u001B[0mef\u001B[0m\u001B[1;33m)\u001B[0m\u001B[1;33m\u001B[0m\u001B[1;33m\u001B[0m\u001B[0m\n\u001B[0;32m    161\u001B[0m \u001B[1;33m\u001B[0m\u001B[0m\n\u001B[1;32m--> 162\u001B[1;33m     \u001B[0mef_minvol\u001B[0m\u001B[1;33m.\u001B[0m\u001B[0mmin_volatility\u001B[0m\u001B[1;33m(\u001B[0m\u001B[1;33m)\u001B[0m\u001B[1;33m\u001B[0m\u001B[1;33m\u001B[0m\u001B[0m\n\u001B[0m\u001B[0;32m    163\u001B[0m     \u001B[0mmin_ret\u001B[0m \u001B[1;33m=\u001B[0m \u001B[0mef_minvol\u001B[0m\u001B[1;33m.\u001B[0m\u001B[0mportfolio_performance\u001B[0m\u001B[1;33m(\u001B[0m\u001B[1;33m)\u001B[0m\u001B[1;33m[\u001B[0m\u001B[1;36m0\u001B[0m\u001B[1;33m]\u001B[0m\u001B[1;33m\u001B[0m\u001B[1;33m\u001B[0m\u001B[0m\n\u001B[0;32m    164\u001B[0m     \u001B[0mmax_ret\u001B[0m \u001B[1;33m=\u001B[0m \u001B[0mef_maxret\u001B[0m\u001B[1;33m.\u001B[0m\u001B[0m_max_return\u001B[0m\u001B[1;33m(\u001B[0m\u001B[1;33m)\u001B[0m\u001B[1;33m\u001B[0m\u001B[1;33m\u001B[0m\u001B[0m\n",
      "\u001B[1;32m~\\anaconda3\\envs\\port\\lib\\site-packages\\pypfopt\\efficient_frontier\\efficient_frontier.py\u001B[0m in \u001B[0;36mmin_volatility\u001B[1;34m(self)\u001B[0m\n\u001B[0;32m    202\u001B[0m \u001B[1;33m\u001B[0m\u001B[0m\n\u001B[0;32m    203\u001B[0m         \u001B[0mself\u001B[0m\u001B[1;33m.\u001B[0m\u001B[0madd_constraint\u001B[0m\u001B[1;33m(\u001B[0m\u001B[1;32mlambda\u001B[0m \u001B[0mw\u001B[0m\u001B[1;33m:\u001B[0m \u001B[0mcp\u001B[0m\u001B[1;33m.\u001B[0m\u001B[0msum\u001B[0m\u001B[1;33m(\u001B[0m\u001B[0mw\u001B[0m\u001B[1;33m)\u001B[0m \u001B[1;33m==\u001B[0m \u001B[1;36m1\u001B[0m\u001B[1;33m)\u001B[0m\u001B[1;33m\u001B[0m\u001B[1;33m\u001B[0m\u001B[0m\n\u001B[1;32m--> 204\u001B[1;33m         \u001B[1;32mreturn\u001B[0m \u001B[0mself\u001B[0m\u001B[1;33m.\u001B[0m\u001B[0m_solve_cvxpy_opt_problem\u001B[0m\u001B[1;33m(\u001B[0m\u001B[1;33m)\u001B[0m\u001B[1;33m\u001B[0m\u001B[1;33m\u001B[0m\u001B[0m\n\u001B[0m\u001B[0;32m    205\u001B[0m \u001B[1;33m\u001B[0m\u001B[0m\n\u001B[0;32m    206\u001B[0m     \u001B[1;32mdef\u001B[0m \u001B[0m_max_return\u001B[0m\u001B[1;33m(\u001B[0m\u001B[0mself\u001B[0m\u001B[1;33m,\u001B[0m \u001B[0mreturn_value\u001B[0m\u001B[1;33m=\u001B[0m\u001B[1;32mTrue\u001B[0m\u001B[1;33m)\u001B[0m\u001B[1;33m:\u001B[0m\u001B[1;33m\u001B[0m\u001B[1;33m\u001B[0m\u001B[0m\n",
      "\u001B[1;32m~\\anaconda3\\envs\\port\\lib\\site-packages\\pypfopt\\base_optimizer.py\u001B[0m in \u001B[0;36m_solve_cvxpy_opt_problem\u001B[1;34m(self)\u001B[0m\n\u001B[0;32m    298\u001B[0m \u001B[1;33m\u001B[0m\u001B[0m\n\u001B[0;32m    299\u001B[0m         \u001B[1;32mif\u001B[0m \u001B[0mself\u001B[0m\u001B[1;33m.\u001B[0m\u001B[0m_opt\u001B[0m\u001B[1;33m.\u001B[0m\u001B[0mstatus\u001B[0m \u001B[1;32mnot\u001B[0m \u001B[1;32min\u001B[0m \u001B[1;33m{\u001B[0m\u001B[1;34m\"optimal\"\u001B[0m\u001B[1;33m,\u001B[0m \u001B[1;34m\"optimal_inaccurate\"\u001B[0m\u001B[1;33m}\u001B[0m\u001B[1;33m:\u001B[0m\u001B[1;33m\u001B[0m\u001B[1;33m\u001B[0m\u001B[0m\n\u001B[1;32m--> 300\u001B[1;33m             raise exceptions.OptimizationError(\n\u001B[0m\u001B[0;32m    301\u001B[0m                 \u001B[1;34m\"Solver status: {}\"\u001B[0m\u001B[1;33m.\u001B[0m\u001B[0mformat\u001B[0m\u001B[1;33m(\u001B[0m\u001B[0mself\u001B[0m\u001B[1;33m.\u001B[0m\u001B[0m_opt\u001B[0m\u001B[1;33m.\u001B[0m\u001B[0mstatus\u001B[0m\u001B[1;33m)\u001B[0m\u001B[1;33m\u001B[0m\u001B[1;33m\u001B[0m\u001B[0m\n\u001B[0;32m    302\u001B[0m             )\n",
      "\u001B[1;31mOptimizationError\u001B[0m: ('Please check your objectives/constraints or use a different solver.', 'Solver status: infeasible')"
     ]
    },
    {
     "data": {
      "text/plain": "<Figure size 432x288 with 1 Axes>",
      "image/png": "[encoded data removed]"
     },
     "metadata": {
      "needs_background": "light"
     },
     "output_type": "display_data"
    }
   ],
   "source": [
    "fig, ax = plt.subplots()\n",
    "ef_max_sharpe = copy.deepcopy(ef)\n",
    "plotting.plot_efficient_frontier(ef, ax=ax, show_assets=False, zorder=10)\n",
    "\n",
    "# Find the tangency portfolio\n",
    "ef_max_sharpe.max_sharpe()\n",
    "ret_tangent, std_tangent, _ = ef_max_sharpe.portfolio_performance(verbose=True)\n",
    "ax.scatter(std_tangent, ret_tangent, marker=\"*\", s=100, c=\"orange\", label=\"Max Sharpe\", zorder=20)\n",
    "\n",
    "# Generate random portfolios\n",
    "n_samples = 8000\n",
    "w = np.random.dirichlet(np.ones(ef.n_assets), n_samples)\n",
    "rets = w.dot(ef.expected_returns)\n",
    "stds = np.sqrt(np.diag(w @ ef.cov_matrix @ w.T))\n",
    "sharpes = rets / stds\n",
    "ax.scatter(stds, rets, marker=\".\", c=sharpes, cmap=\"cool\", zorder=0)\n",
    "\n",
    "# Output\n",
    "ax.set_title(\"Efficient Frontier with random portfolios\")\n",
    "ax.legend()\n",
    "plt.tight_layout()\n",
    "plt.show()"
   ],
   "metadata": {
    "collapsed": false,
    "pycharm": {
     "name": "#%%\n"
    }
   }
  },
  {
   "cell_type": "code",
   "execution_count": null,
   "outputs": [],
   "source": [],
   "metadata": {
    "collapsed": false,
    "pycharm": {
     "name": "#%%\n"
    }
   }
  },
  {
   "cell_type": "code",
   "execution_count": null,
   "outputs": [],
   "source": [],
   "metadata": {
    "collapsed": false,
    "pycharm": {
     "name": "#%%\n"
    }
   }
  }
 ],
 "metadata": {
  "kernelspec": {
   "display_name": "Python 3",
   "language": "python",
   "name": "python3"
  },
  "language_info": {
   "codemirror_mode": {
    "name": "ipython",
    "version": 2
   },
   "file_extension": ".py",
   "mimetype": "text/x-python",
   "name": "python",
   "nbconvert_exporter": "python",
   "pygments_lexer": "ipython2",
   "version": "2.7.6"
  }
 },
 "nbformat": 4,
 "nbformat_minor": 0
}