{
 "cells": [
  {
   "cell_type": "code",
   "execution_count": 47,
   "metadata": {
    "pycharm": {
     "name": "#%%\n"
    }
   },
   "outputs": [],
   "source": [
    "import numpy as np\n",
    "import pandas as pd\n",
    "import yfinance as yf\n",
    "from scipy.optimize import minimize\n",
    "from pypfopt import EfficientFrontier\n",
    "from pypfopt import risk_models\n",
    "from pypfopt import expected_returns\n"
   ]
  },
  {
   "cell_type": "code",
   "execution_count": 48,
   "metadata": {
    "pycharm": {
     "name": "#%%\n"
    }
   },
   "outputs": [],
   "source": [
    "tickers = ['TSM','AAPL','AMD','BABA']"
   ]
  },
  {
   "cell_type": "code",
   "execution_count": 49,
   "metadata": {
    "pycharm": {
     "name": "#%%\n"
    }
   },
   "outputs": [
    {
     "name": "stdout",
     "output_type": "stream",
     "text": [
      "[*********************100%***********************]  4 of 4 completed\n"
     ]
    }
   ],
   "source": [
    "data =yf.download(tickers, start='2016-01-01', end='2021-12-31')"
   ]
  },
  {
   "cell_type": "code",
   "execution_count": 50,
   "metadata": {
    "pycharm": {
     "name": "#%%\n"
    }
   },
   "outputs": [],
   "source": [
    "data2 = data['Adj Close']"
   ]
  },
  {
   "cell_type": "code",
   "execution_count": 50,
   "metadata": {
    "pycharm": {
     "name": "#%%\n"
    }
   },
   "outputs": [],
   "source": []
  },
  {
   "cell_type": "code",
   "execution_count": 50,
   "metadata": {
    "pycharm": {
     "name": "#%%\n"
    }
   },
   "outputs": [],
   "source": []
  },
  {
   "cell_type": "code",
   "execution_count": 51,
   "metadata": {
    "pycharm": {
     "name": "#%%\n"
    }
   },
   "outputs": [],
   "source": [
    "data3 = data2.pct_change()[1:]"
   ]
  },
  {
   "cell_type": "code",
   "execution_count": 52,
   "metadata": {
    "pycharm": {
     "name": "#%%\n"
    }
   },
   "outputs": [
    {
     "data": {
      "text/plain": "                AAPL       AMD      BABA       TSM\nDate                                              \n2016-01-05 -0.025059 -0.007220  0.025297 -0.006338\n2016-01-06 -0.019569 -0.087273 -0.016533 -0.027790\n2016-01-07 -0.042205 -0.091633 -0.059615 -0.011247\n2016-01-08  0.005288 -0.061403 -0.026403 -0.013744\n2016-01-11  0.016192  0.093458 -0.012429  0.005766\n...              ...       ...       ...       ...\n2021-12-23  0.003644  0.015707  0.007215 -0.005111\n2021-12-27  0.022975  0.056247 -0.017445  0.016738\n2021-12-28 -0.005767 -0.007839 -0.015353 -0.005216\n2021-12-29  0.000502 -0.031929 -0.023606 -0.005325\n2021-12-30 -0.006578 -0.020977  0.097243 -0.008154\n\n[1509 rows x 4 columns]",
      "text/html": "<div><div id=9ba4a2af-61e5-44d1-93da-6c84edb8fce1 style=\"display:none; background-color:#9D6CFF; color:white; width:200px; height:30px; padding-left:5px; border-radius:4px; flex-direction:row; justify-content:space-around; align-items:center;\" onmouseover=\"this.style.backgroundColor='#BA9BF8'\" onmouseout=\"this.style.backgroundColor='#9D6CFF'\" onclick=\"window.commands?.execute('create-mitosheet-from-dataframe-output');\">See Full Dataframe in Mito</div> <script> if (window.commands?.hasCommand('create-mitosheet-from-dataframe-output')) document.getElementById('9ba4a2af-61e5-44d1-93da-6c84edb8fce1').style.display = 'flex' </script> <table border=\"1\" class=\"dataframe\">\n  <thead>\n    <tr style=\"text-align: right;\">\n      <th></th>\n      <th>AAPL</th>\n      <th>AMD</th>\n      <th>BABA</th>\n      <th>TSM</th>\n    </tr>\n    <tr>\n      <th>Date</th>\n      <th></th>\n      <th></th>\n      <th></th>\n      <th></th>\n    </tr>\n  </thead>\n  <tbody>\n    <tr>\n      <th>2016-01-05</th>\n      <td>-0.025059</td>\n      <td>-0.007220</td>\n      <td>0.025297</td>\n      <td>-0.006338</td>\n    </tr>\n    <tr>\n      <th>2016-01-06</th>\n      <td>-0.019569</td>\n      <td>-0.087273</td>\n      <td>-0.016533</td>\n      <td>-0.027790</td>\n    </tr>\n    <tr>\n      <th>2016-01-07</th>\n      <td>-0.042205</td>\n      <td>-0.091633</td>\n      <td>-0.059615</td>\n      <td>-0.011247</td>\n    </tr>\n    <tr>\n      <th>2016-01-08</th>\n      <td>0.005288</td>\n      <td>-0.061403</td>\n      <td>-0.026403</td>\n      <td>-0.013744</td>\n    </tr>\n    <tr>\n      <th>2016-01-11</th>\n      <td>0.016192</td>\n      <td>0.093458</td>\n      <td>-0.012429</td>\n      <td>0.005766</td>\n    </tr>\n    <tr>\n      <th>...</th>\n      <td>...</td>\n      <td>...</td>\n      <td>...</td>\n      <td>...</td>\n    </tr>\n    <tr>\n      <th>2021-12-23</th>\n      <td>0.003644</td>\n      <td>0.015707</td>\n      <td>0.007215</td>\n      <td>-0.005111</td>\n    </tr>\n    <tr>\n      <th>2021-12-27</th>\n      <td>0.022975</td>\n      <td>0.056247</td>\n      <td>-0.017445</td>\n      <td>0.016738</td>\n    </tr>\n    <tr>\n      <th>2021-12-28</th>\n      <td>-0.005767</td>\n      <td>-0.007839</td>\n      <td>-0.015353</td>\n      <td>-0.005216</td>\n    </tr>\n    <tr>\n      <th>2021-12-29</th>\n      <td>0.000502</td>\n      <td>-0.031929</td>\n      <td>-0.023606</td>\n      <td>-0.005325</td>\n    </tr>\n    <tr>\n      <th>2021-12-30</th>\n      <td>-0.006578</td>\n      <td>-0.020977</td>\n      <td>0.097243</td>\n      <td>-0.008154</td>\n    </tr>\n  </tbody>\n</table></div>"
     },
     "execution_count": 52,
     "metadata": {},
     "output_type": "execute_result"
    }
   ],
   "source": [
    "data3 = data3.dropna()\n",
    "data3"
   ]
  },
  {
   "cell_type": "code",
   "execution_count": 53,
   "metadata": {
    "pycharm": {
     "name": "#%%\n"
    }
   },
   "outputs": [
    {
     "name": "stderr",
     "output_type": "stream",
     "text": [
      "C:\\Users\\shane\\anaconda3\\envs\\port\\lib\\site-packages\\pypfopt\\expected_returns.py:31: UserWarning: Some returns are NaN. Please check your price data.\n",
      "  warnings.warn(\n",
      "C:\\Users\\shane\\anaconda3\\envs\\port\\lib\\site-packages\\pypfopt\\expected_returns.py:35: UserWarning: Some returns are infinite. Please check your price data.\n",
      "  warnings.warn(\n"
     ]
    }
   ],
   "source": [
    "mu = expected_returns.mean_historical_return(data3)"
   ]
  },
  {
   "cell_type": "code",
   "execution_count": 54,
   "metadata": {
    "pycharm": {
     "name": "#%%\n"
    }
   },
   "outputs": [
    {
     "data": {
      "text/plain": "AAPL   NaN\nAMD    NaN\nBABA   NaN\nTSM    NaN\ndtype: float64"
     },
     "execution_count": 54,
     "metadata": {},
     "output_type": "execute_result"
    }
   ],
   "source": [
    "mu"
   ]
  },
  {
   "cell_type": "code",
   "execution_count": 55,
   "metadata": {
    "pycharm": {
     "name": "#%%\n"
    }
   },
   "outputs": [],
   "source": [
    "cov = risk_models.sample_cov(data3)"
   ]
  },
  {
   "cell_type": "code",
   "execution_count": 56,
   "metadata": {
    "pycharm": {
     "name": "#%%\n"
    }
   },
   "outputs": [
    {
     "data": {
      "text/plain": "              AAPL           AMD           BABA           TSM\nAAPL  54760.774740  -1372.713565    -655.913578    553.996350\nAMD   -1372.713565  33973.183883   -1426.038183   -530.387967\nBABA   -655.913578  -1426.038183  147175.206819    962.372982\nTSM     553.996350   -530.387967     962.372982  60051.427217",
      "text/html": "<div><div id=c2dfc83f-df6f-43ea-8099-5c1ec4057c4f style=\"display:none; background-color:#9D6CFF; color:white; width:200px; height:30px; padding-left:5px; border-radius:4px; flex-direction:row; justify-content:space-around; align-items:center;\" onmouseover=\"this.style.backgroundColor='#BA9BF8'\" onmouseout=\"this.style.backgroundColor='#9D6CFF'\" onclick=\"window.commands?.execute('create-mitosheet-from-dataframe-output');\">See Full Dataframe in Mito</div> <script> if (window.commands?.hasCommand('create-mitosheet-from-dataframe-output')) document.getElementById('c2dfc83f-df6f-43ea-8099-5c1ec4057c4f').style.display = 'flex' </script> <table border=\"1\" class=\"dataframe\">\n  <thead>\n    <tr style=\"text-align: right;\">\n      <th></th>\n      <th>AAPL</th>\n      <th>AMD</th>\n      <th>BABA</th>\n      <th>TSM</th>\n    </tr>\n  </thead>\n  <tbody>\n    <tr>\n      <th>AAPL</th>\n      <td>54760.774740</td>\n      <td>-1372.713565</td>\n      <td>-655.913578</td>\n      <td>553.996350</td>\n    </tr>\n    <tr>\n      <th>AMD</th>\n      <td>-1372.713565</td>\n      <td>33973.183883</td>\n      <td>-1426.038183</td>\n      <td>-530.387967</td>\n    </tr>\n    <tr>\n      <th>BABA</th>\n      <td>-655.913578</td>\n      <td>-1426.038183</td>\n      <td>147175.206819</td>\n      <td>962.372982</td>\n    </tr>\n    <tr>\n      <th>TSM</th>\n      <td>553.996350</td>\n      <td>-530.387967</td>\n      <td>962.372982</td>\n      <td>60051.427217</td>\n    </tr>\n  </tbody>\n</table></div>"
     },
     "execution_count": 56,
     "metadata": {},
     "output_type": "execute_result"
    }
   ],
   "source": [
    "cov"
   ]
  },
  {
   "cell_type": "code",
   "execution_count": 56,
   "metadata": {
    "pycharm": {
     "name": "#%%\n"
    }
   },
   "outputs": [],
   "source": []
  }
 ],
 "metadata": {
  "kernelspec": {
   "display_name": "Python 3 (ipykernel)",
   "language": "python",
   "name": "python3"
  },
  "language_info": {
   "codemirror_mode": {
    "name": "ipython",
    "version": 3
   },
   "file_extension": ".py",
   "mimetype": "text/x-python",
   "name": "python",
   "nbconvert_exporter": "python",
   "pygments_lexer": "ipython3",
   "version": "3.9.12"
  }
 },
 "nbformat": 4,
 "nbformat_minor": 1
}