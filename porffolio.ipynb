{
 "cells": [
  {
   "cell_type": "code",
   "execution_count": 104,
   "metadata": {
    "collapsed": true,
    "pycharm": {
     "name": "#%%\n"
    }
   },
   "outputs": [],
   "source": [
    "import numpy as np\n",
    "import pandas as pd\n",
    "import yfinance as yf\n",
    "import pypfopt\n",
    "from pypfopt import expected_returns\n",
    "from pypfopt import EfficientFrontier\n",
    "from pypfopt import risk_models\n",
    "import streamlit as st\n",
    "import matplotlib.pyplot as plt\n",
    "from pypfopt import plotting"
   ]
  },
  {
   "cell_type": "code",
   "execution_count": 105,
   "metadata": {
    "pycharm": {
     "name": "#%%\n"
    }
   },
   "outputs": [],
   "source": [
    "tickers = ['TSM','AAPL','AMD','BABA', 'SPY', 'V','QQQ']"
   ]
  },
  {
   "cell_type": "code",
   "execution_count": 106,
   "metadata": {
    "pycharm": {
     "name": "#%%\n"
    }
   },
   "outputs": [
    {
     "name": "stdout",
     "output_type": "stream",
     "text": [
      "[*********************100%***********************]  7 of 7 completed\n"
     ]
    }
   ],
   "source": [
    "data =yf.download(tickers, start='2020-01-01', end='2021-12-31')"
   ]
  },
  {
   "cell_type": "code",
   "execution_count": 107,
   "metadata": {
    "pycharm": {
     "name": "#%%\n"
    }
   },
   "outputs": [
    {
     "data": {
      "text/html": [
       "<div>\n",
       "<style scoped>\n",
       "    .dataframe tbody tr th:only-of-type {\n",
       "        vertical-align: middle;\n",
       "    }\n",
       "\n",
       "    .dataframe tbody tr th {\n",
       "        vertical-align: top;\n",
       "    }\n",
       "\n",
       "    .dataframe thead tr th {\n",
       "        text-align: left;\n",
       "    }\n",
       "\n",
       "    .dataframe thead tr:last-of-type th {\n",
       "        text-align: right;\n",
       "    }\n",
       "</style>\n",
       "<table border=\"1\" class=\"dataframe\">\n",
       "  <thead>\n",
       "    <tr>\n",
       "      <th></th>\n",
       "      <th colspan=\"7\" halign=\"left\">Adj Close</th>\n",
       "      <th colspan=\"3\" halign=\"left\">Close</th>\n",
       "      <th>...</th>\n",
       "      <th colspan=\"3\" halign=\"left\">Open</th>\n",
       "      <th colspan=\"7\" halign=\"left\">Volume</th>\n",
       "    </tr>\n",
       "    <tr>\n",
       "      <th></th>\n",
       "      <th>AAPL</th>\n",
       "      <th>AMD</th>\n",
       "      <th>BABA</th>\n",
       "      <th>QQQ</th>\n",
       "      <th>SPY</th>\n",
       "      <th>TSM</th>\n",
       "      <th>V</th>\n",
       "      <th>AAPL</th>\n",
       "      <th>AMD</th>\n",
       "      <th>BABA</th>\n",
       "      <th>...</th>\n",
       "      <th>SPY</th>\n",
       "      <th>TSM</th>\n",
       "      <th>V</th>\n",
       "      <th>AAPL</th>\n",
       "      <th>AMD</th>\n",
       "      <th>BABA</th>\n",
       "      <th>QQQ</th>\n",
       "      <th>SPY</th>\n",
       "      <th>TSM</th>\n",
       "      <th>V</th>\n",
       "    </tr>\n",
       "    <tr>\n",
       "      <th>Date</th>\n",
       "      <th></th>\n",
       "      <th></th>\n",
       "      <th></th>\n",
       "      <th></th>\n",
       "      <th></th>\n",
       "      <th></th>\n",
       "      <th></th>\n",
       "      <th></th>\n",
       "      <th></th>\n",
       "      <th></th>\n",
       "      <th></th>\n",
       "      <th></th>\n",
       "      <th></th>\n",
       "      <th></th>\n",
       "      <th></th>\n",
       "      <th></th>\n",
       "      <th></th>\n",
       "      <th></th>\n",
       "      <th></th>\n",
       "      <th></th>\n",
       "      <th></th>\n",
       "    </tr>\n",
       "  </thead>\n",
       "  <tbody>\n",
       "    <tr>\n",
       "      <th>2020-01-02</th>\n",
       "      <td>73.785919</td>\n",
       "      <td>49.099998</td>\n",
       "      <td>219.770004</td>\n",
       "      <td>213.231750</td>\n",
       "      <td>312.395020</td>\n",
       "      <td>56.990177</td>\n",
       "      <td>188.125137</td>\n",
       "      <td>75.087502</td>\n",
       "      <td>49.099998</td>\n",
       "      <td>219.770004</td>\n",
       "      <td>...</td>\n",
       "      <td>323.540009</td>\n",
       "      <td>59.599998</td>\n",
       "      <td>189.000000</td>\n",
       "      <td>135480400</td>\n",
       "      <td>80331100</td>\n",
       "      <td>15873500</td>\n",
       "      <td>30969400</td>\n",
       "      <td>59151200</td>\n",
       "      <td>8432600</td>\n",
       "      <td>8733000</td>\n",
       "    </tr>\n",
       "    <tr>\n",
       "      <th>2020-01-03</th>\n",
       "      <td>73.068565</td>\n",
       "      <td>48.599998</td>\n",
       "      <td>217.000000</td>\n",
       "      <td>211.278610</td>\n",
       "      <td>310.029480</td>\n",
       "      <td>55.110760</td>\n",
       "      <td>186.628967</td>\n",
       "      <td>74.357498</td>\n",
       "      <td>48.599998</td>\n",
       "      <td>217.000000</td>\n",
       "      <td>...</td>\n",
       "      <td>321.160004</td>\n",
       "      <td>58.970001</td>\n",
       "      <td>188.410004</td>\n",
       "      <td>146322800</td>\n",
       "      <td>73127400</td>\n",
       "      <td>8604500</td>\n",
       "      <td>27518900</td>\n",
       "      <td>77709700</td>\n",
       "      <td>10546400</td>\n",
       "      <td>4899700</td>\n",
       "    </tr>\n",
       "    <tr>\n",
       "      <th>2020-01-06</th>\n",
       "      <td>73.650780</td>\n",
       "      <td>48.389999</td>\n",
       "      <td>216.639999</td>\n",
       "      <td>212.639893</td>\n",
       "      <td>311.212280</td>\n",
       "      <td>54.474796</td>\n",
       "      <td>186.225372</td>\n",
       "      <td>74.949997</td>\n",
       "      <td>48.389999</td>\n",
       "      <td>216.639999</td>\n",
       "      <td>...</td>\n",
       "      <td>320.489990</td>\n",
       "      <td>57.599998</td>\n",
       "      <td>188.000000</td>\n",
       "      <td>118387200</td>\n",
       "      <td>47934900</td>\n",
       "      <td>11885500</td>\n",
       "      <td>21655300</td>\n",
       "      <td>55653900</td>\n",
       "      <td>8897200</td>\n",
       "      <td>10109500</td>\n",
       "    </tr>\n",
       "    <tr>\n",
       "      <th>2020-01-07</th>\n",
       "      <td>73.304413</td>\n",
       "      <td>48.250000</td>\n",
       "      <td>217.630005</td>\n",
       "      <td>212.610321</td>\n",
       "      <td>310.337219</td>\n",
       "      <td>55.357552</td>\n",
       "      <td>185.733215</td>\n",
       "      <td>74.597504</td>\n",
       "      <td>48.250000</td>\n",
       "      <td>217.630005</td>\n",
       "      <td>...</td>\n",
       "      <td>323.019989</td>\n",
       "      <td>57.450001</td>\n",
       "      <td>189.589996</td>\n",
       "      <td>108872000</td>\n",
       "      <td>58061400</td>\n",
       "      <td>9388000</td>\n",
       "      <td>22139300</td>\n",
       "      <td>40496400</td>\n",
       "      <td>7444300</td>\n",
       "      <td>4392300</td>\n",
       "    </tr>\n",
       "    <tr>\n",
       "      <th>2020-01-08</th>\n",
       "      <td>74.483612</td>\n",
       "      <td>47.830002</td>\n",
       "      <td>218.000000</td>\n",
       "      <td>214.208344</td>\n",
       "      <td>311.991211</td>\n",
       "      <td>55.765709</td>\n",
       "      <td>188.912628</td>\n",
       "      <td>75.797501</td>\n",
       "      <td>47.830002</td>\n",
       "      <td>218.000000</td>\n",
       "      <td>...</td>\n",
       "      <td>322.940002</td>\n",
       "      <td>58.189999</td>\n",
       "      <td>189.490005</td>\n",
       "      <td>132079200</td>\n",
       "      <td>53767000</td>\n",
       "      <td>11959100</td>\n",
       "      <td>26397300</td>\n",
       "      <td>68296000</td>\n",
       "      <td>5381500</td>\n",
       "      <td>5712000</td>\n",
       "    </tr>\n",
       "  </tbody>\n",
       "</table>\n",
       "<p>5 rows × 42 columns</p>\n",
       "</div>"
      ],
      "text/plain": [
       "            Adj Close                                                 \\\n",
       "                 AAPL        AMD        BABA         QQQ         SPY   \n",
       "Date                                                                   \n",
       "2020-01-02  73.785919  49.099998  219.770004  213.231750  312.395020   \n",
       "2020-01-03  73.068565  48.599998  217.000000  211.278610  310.029480   \n",
       "2020-01-06  73.650780  48.389999  216.639999  212.639893  311.212280   \n",
       "2020-01-07  73.304413  48.250000  217.630005  212.610321  310.337219   \n",
       "2020-01-08  74.483612  47.830002  218.000000  214.208344  311.991211   \n",
       "\n",
       "                                       Close                         ...  \\\n",
       "                  TSM           V       AAPL        AMD        BABA  ...   \n",
       "Date                                                                 ...   \n",
       "2020-01-02  56.990177  188.125137  75.087502  49.099998  219.770004  ...   \n",
       "2020-01-03  55.110760  186.628967  74.357498  48.599998  217.000000  ...   \n",
       "2020-01-06  54.474796  186.225372  74.949997  48.389999  216.639999  ...   \n",
       "2020-01-07  55.357552  185.733215  74.597504  48.250000  217.630005  ...   \n",
       "2020-01-08  55.765709  188.912628  75.797501  47.830002  218.000000  ...   \n",
       "\n",
       "                  Open                            Volume                      \\\n",
       "                   SPY        TSM           V       AAPL       AMD      BABA   \n",
       "Date                                                                           \n",
       "2020-01-02  323.540009  59.599998  189.000000  135480400  80331100  15873500   \n",
       "2020-01-03  321.160004  58.970001  188.410004  146322800  73127400   8604500   \n",
       "2020-01-06  320.489990  57.599998  188.000000  118387200  47934900  11885500   \n",
       "2020-01-07  323.019989  57.450001  189.589996  108872000  58061400   9388000   \n",
       "2020-01-08  322.940002  58.189999  189.490005  132079200  53767000  11959100   \n",
       "\n",
       "                                                    \n",
       "                 QQQ       SPY       TSM         V  \n",
       "Date                                                \n",
       "2020-01-02  30969400  59151200   8432600   8733000  \n",
       "2020-01-03  27518900  77709700  10546400   4899700  \n",
       "2020-01-06  21655300  55653900   8897200  10109500  \n",
       "2020-01-07  22139300  40496400   7444300   4392300  \n",
       "2020-01-08  26397300  68296000   5381500   5712000  \n",
       "\n",
       "[5 rows x 42 columns]"
      ]
     },
     "execution_count": 107,
     "metadata": {},
     "output_type": "execute_result"
    }
   ],
   "source": [
    "data.head()"
   ]
  },
  {
   "cell_type": "code",
   "execution_count": 108,
   "metadata": {
    "pycharm": {
     "name": "#%%\n"
    }
   },
   "outputs": [],
   "source": [
    "data2 = data['Adj Close']"
   ]
  },
  {
   "cell_type": "code",
   "execution_count": 109,
   "metadata": {
    "pycharm": {
     "name": "#%%\n"
    }
   },
   "outputs": [],
   "source": [
    "mu =pypfopt.expected_returns.mean_historical_return(data2)"
   ]
  },
  {
   "cell_type": "code",
   "execution_count": 110,
   "metadata": {
    "pycharm": {
     "name": "#%%\n"
    }
   },
   "outputs": [
    {
     "data": {
      "text/plain": [
       "DatetimeIndex(['2020-01-02', '2020-01-03', '2020-01-06', '2020-01-07',\n",
       "               '2020-01-08', '2020-01-09', '2020-01-10', '2020-01-13',\n",
       "               '2020-01-14', '2020-01-15',\n",
       "               ...\n",
       "               '2021-12-16', '2021-12-17', '2021-12-20', '2021-12-21',\n",
       "               '2021-12-22', '2021-12-23', '2021-12-27', '2021-12-28',\n",
       "               '2021-12-29', '2021-12-30'],\n",
       "              dtype='datetime64[ns]', name='Date', length=504, freq=None)"
      ]
     },
     "execution_count": 110,
     "metadata": {},
     "output_type": "execute_result"
    }
   ],
   "source": [
    "data2.index"
   ]
  },
  {
   "cell_type": "code",
   "execution_count": 111,
   "metadata": {
    "pycharm": {
     "name": "#%%\n"
    }
   },
   "outputs": [],
   "source": [
    "cov =pypfopt.risk_models.sample_cov(data2)\n",
    "w = np.array([0,.9,0,0,0,.05,.08])"
   ]
  },
  {
   "cell_type": "code",
   "execution_count": 112,
   "metadata": {
    "pycharm": {
     "name": "#%%\n"
    }
   },
   "outputs": [
    {
     "data": {
      "text/html": [
       "<div>\n",
       "<style scoped>\n",
       "    .dataframe tbody tr th:only-of-type {\n",
       "        vertical-align: middle;\n",
       "    }\n",
       "\n",
       "    .dataframe tbody tr th {\n",
       "        vertical-align: top;\n",
       "    }\n",
       "\n",
       "    .dataframe thead th {\n",
       "        text-align: right;\n",
       "    }\n",
       "</style>\n",
       "<table border=\"1\" class=\"dataframe\">\n",
       "  <thead>\n",
       "    <tr style=\"text-align: right;\">\n",
       "      <th></th>\n",
       "      <th>AAPL</th>\n",
       "      <th>AMD</th>\n",
       "      <th>BABA</th>\n",
       "      <th>QQQ</th>\n",
       "      <th>SPY</th>\n",
       "      <th>TSM</th>\n",
       "      <th>V</th>\n",
       "    </tr>\n",
       "  </thead>\n",
       "  <tbody>\n",
       "    <tr>\n",
       "      <th>AAPL</th>\n",
       "      <td>0.140659</td>\n",
       "      <td>0.118143</td>\n",
       "      <td>0.056898</td>\n",
       "      <td>0.093483</td>\n",
       "      <td>0.075901</td>\n",
       "      <td>0.083030</td>\n",
       "      <td>0.079917</td>\n",
       "    </tr>\n",
       "    <tr>\n",
       "      <th>AMD</th>\n",
       "      <td>0.118143</td>\n",
       "      <td>0.275616</td>\n",
       "      <td>0.068735</td>\n",
       "      <td>0.105688</td>\n",
       "      <td>0.080416</td>\n",
       "      <td>0.127110</td>\n",
       "      <td>0.081295</td>\n",
       "    </tr>\n",
       "    <tr>\n",
       "      <th>BABA</th>\n",
       "      <td>0.056898</td>\n",
       "      <td>0.068735</td>\n",
       "      <td>0.182677</td>\n",
       "      <td>0.053732</td>\n",
       "      <td>0.042252</td>\n",
       "      <td>0.055270</td>\n",
       "      <td>0.047043</td>\n",
       "    </tr>\n",
       "    <tr>\n",
       "      <th>QQQ</th>\n",
       "      <td>0.093483</td>\n",
       "      <td>0.105688</td>\n",
       "      <td>0.053732</td>\n",
       "      <td>0.080224</td>\n",
       "      <td>0.066057</td>\n",
       "      <td>0.076522</td>\n",
       "      <td>0.071551</td>\n",
       "    </tr>\n",
       "    <tr>\n",
       "      <th>SPY</th>\n",
       "      <td>0.075901</td>\n",
       "      <td>0.080416</td>\n",
       "      <td>0.042252</td>\n",
       "      <td>0.066057</td>\n",
       "      <td>0.064389</td>\n",
       "      <td>0.063877</td>\n",
       "      <td>0.073893</td>\n",
       "    </tr>\n",
       "    <tr>\n",
       "      <th>TSM</th>\n",
       "      <td>0.083030</td>\n",
       "      <td>0.127110</td>\n",
       "      <td>0.055270</td>\n",
       "      <td>0.076522</td>\n",
       "      <td>0.063877</td>\n",
       "      <td>0.158501</td>\n",
       "      <td>0.066570</td>\n",
       "    </tr>\n",
       "    <tr>\n",
       "      <th>V</th>\n",
       "      <td>0.079917</td>\n",
       "      <td>0.081295</td>\n",
       "      <td>0.047043</td>\n",
       "      <td>0.071551</td>\n",
       "      <td>0.073893</td>\n",
       "      <td>0.066570</td>\n",
       "      <td>0.120471</td>\n",
       "    </tr>\n",
       "  </tbody>\n",
       "</table>\n",
       "</div>"
      ],
      "text/plain": [
       "          AAPL       AMD      BABA       QQQ       SPY       TSM         V\n",
       "AAPL  0.140659  0.118143  0.056898  0.093483  0.075901  0.083030  0.079917\n",
       "AMD   0.118143  0.275616  0.068735  0.105688  0.080416  0.127110  0.081295\n",
       "BABA  0.056898  0.068735  0.182677  0.053732  0.042252  0.055270  0.047043\n",
       "QQQ   0.093483  0.105688  0.053732  0.080224  0.066057  0.076522  0.071551\n",
       "SPY   0.075901  0.080416  0.042252  0.066057  0.064389  0.063877  0.073893\n",
       "TSM   0.083030  0.127110  0.055270  0.076522  0.063877  0.158501  0.066570\n",
       "V     0.079917  0.081295  0.047043  0.071551  0.073893  0.066570  0.120471"
      ]
     },
     "execution_count": 112,
     "metadata": {},
     "output_type": "execute_result"
    }
   ],
   "source": [
    "cov"
   ]
  },
  {
   "cell_type": "code",
   "execution_count": 113,
   "metadata": {
    "pycharm": {
     "name": "#%%\n"
    }
   },
   "outputs": [
    {
     "data": {
      "text/plain": [
       "array([0.  , 0.9 , 0.  , 0.  , 0.  , 0.05, 0.08])"
      ]
     },
     "execution_count": 113,
     "metadata": {},
     "output_type": "execute_result"
    }
   ],
   "source": [
    "w\n"
   ]
  },
  {
   "cell_type": "code",
   "execution_count": 114,
   "metadata": {
    "pycharm": {
     "name": "#%%\n"
    }
   },
   "outputs": [],
   "source": [
    "w_min =np.array([-.1,-.2,-.2,-.10,.2,-.05,-.05])"
   ]
  },
  {
   "cell_type": "code",
   "execution_count": 115,
   "metadata": {
    "pycharm": {
     "name": "#%%\n"
    }
   },
   "outputs": [],
   "source": [
    "rf =.03"
   ]
  },
  {
   "cell_type": "code",
   "execution_count": 116,
   "metadata": {
    "pycharm": {
     "name": "#%%\n"
    }
   },
   "outputs": [],
   "source": [
    "ef = EfficientFrontier(mu, cov,weight_bounds=(0,1))\n",
    "# ef.add_constraint(lambda x: x <= w)\n",
    "# ef.add_constraint(lambda y: y >= w_min)\n",
    "# ef.add_constraint(lambda y: y >= w_min)\n",
    "# ef.add_constraint(lambda y: y >= w_min)"
   ]
  },
  {
   "cell_type": "code",
   "execution_count": 117,
   "metadata": {
    "pycharm": {
     "name": "#%%\n"
    }
   },
   "outputs": [],
   "source": [
    "sharpe =ef.max_sharpe(risk_free_rate=rf)\n"
   ]
  },
  {
   "cell_type": "code",
   "execution_count": 117,
   "metadata": {
    "pycharm": {
     "name": "#%%\n"
    }
   },
   "outputs": [],
   "source": []
  },
  {
   "cell_type": "code",
   "execution_count": 117,
   "metadata": {
    "pycharm": {
     "name": "#%%\n"
    }
   },
   "outputs": [],
   "source": []
  },
  {
   "cell_type": "code",
   "execution_count": 118,
   "metadata": {
    "pycharm": {
     "name": "#%%\n"
    }
   },
   "outputs": [
    {
     "name": "stdout",
     "output_type": "stream",
     "text": [
      "Expected annual return: 60.1%\n",
      "Annual volatility: 37.5%\n",
      "Sharpe Ratio: 1.52\n"
     ]
    },
    {
     "data": {
      "text/plain": [
       "(0.6007962221120701, 0.37525492884991624, 1.521089206906489)"
      ]
     },
     "execution_count": 118,
     "metadata": {},
     "output_type": "execute_result"
    }
   ],
   "source": [
    "ef.portfolio_performance(risk_free_rate= rf, verbose=True)"
   ]
  },
  {
   "cell_type": "code",
   "execution_count": 119,
   "metadata": {
    "pycharm": {
     "name": "#%%\n"
    }
   },
   "outputs": [],
   "source": [
    "ef2 = EfficientFrontier(mu, cov,weight_bounds=(0,1))\n",
    "ef2.add_constraint(lambda x: x <= w)\n",
    "# ef2.add_constraint(lambda x: x >= w_min)\n"
   ]
  },
  {
   "cell_type": "code",
   "execution_count": 120,
   "metadata": {
    "pycharm": {
     "name": "#%%\n"
    }
   },
   "outputs": [
    {
     "data": {
      "text/plain": [
       "array([0.  , 0.9 , 0.  , 0.  , 0.  , 0.05, 0.08])"
      ]
     },
     "execution_count": 120,
     "metadata": {},
     "output_type": "execute_result"
    }
   ],
   "source": [
    "w"
   ]
  },
  {
   "cell_type": "code",
   "execution_count": 120,
   "metadata": {
    "pycharm": {
     "name": "#%%\n"
    }
   },
   "outputs": [],
   "source": []
  },
  {
   "cell_type": "code",
   "execution_count": 120,
   "metadata": {
    "pycharm": {
     "name": "#%%\n"
    }
   },
   "outputs": [],
   "source": []
  },
  {
   "cell_type": "code",
   "execution_count": 120,
   "metadata": {
    "pycharm": {
     "name": "#%%\n"
    }
   },
   "outputs": [],
   "source": []
  },
  {
   "cell_type": "code",
   "execution_count": 120,
   "metadata": {
    "pycharm": {
     "name": "#%%\n"
    }
   },
   "outputs": [],
   "source": [
    "\n"
   ]
  },
  {
   "cell_type": "code",
   "execution_count": 120,
   "metadata": {
    "pycharm": {
     "name": "#%%\n"
    }
   },
   "outputs": [],
   "source": []
  },
  {
   "cell_type": "code",
   "execution_count": 120,
   "metadata": {
    "pycharm": {
     "name": "#%%\n"
    }
   },
   "outputs": [],
   "source": []
  },
  {
   "cell_type": "code",
   "execution_count": 120,
   "metadata": {
    "pycharm": {
     "name": "#%%\n"
    }
   },
   "outputs": [],
   "source": []
  },
  {
   "cell_type": "code",
   "execution_count": 121,
   "metadata": {
    "pycharm": {
     "name": "#%%\n"
    }
   },
   "outputs": [
    {
     "name": "stderr",
     "output_type": "stream",
     "text": [
      "C:\\Users\\shane\\anaconda3\\lib\\site-packages\\pypfopt\\efficient_frontier\\efficient_frontier.py:176: RuntimeWarning: Market neutrality requires shorting - bounds have been amended\n",
      "  warnings.warn(\n"
     ]
    }
   ],
   "source": [
    "maxr = ef2.efficient_risk(.3,market_neutral=True)"
   ]
  },
  {
   "cell_type": "code",
   "execution_count": 122,
   "metadata": {
    "pycharm": {
     "name": "#%%\n"
    }
   },
   "outputs": [
    {
     "data": {
      "text/plain": [
       "OrderedDict([('AAPL', -3.088004e-10),\n",
       "             ('AMD', 0.5698164930705245),\n",
       "             ('BABA', -0.4483532115557538),\n",
       "             ('QQQ', -5.602539e-10),\n",
       "             ('SPY', -9.360236e-10),\n",
       "             ('TSM', 0.0499999994459332),\n",
       "             ('V', -0.1714632791558994)])"
      ]
     },
     "execution_count": 122,
     "metadata": {},
     "output_type": "execute_result"
    }
   ],
   "source": [
    "maxr"
   ]
  },
  {
   "cell_type": "code",
   "execution_count": 123,
   "metadata": {
    "pycharm": {
     "name": "#%%\n"
    }
   },
   "outputs": [
    {
     "name": "stdout",
     "output_type": "stream",
     "text": [
      "Expected annual return: 53.4%\n",
      "Annual volatility: 30.0%\n",
      "Sharpe Ratio: 1.68\n"
     ]
    },
    {
     "data": {
      "text/plain": [
       "(0.5337125769833772, 0.2999999998675236, 1.6790419240193684)"
      ]
     },
     "execution_count": 123,
     "metadata": {},
     "output_type": "execute_result"
    }
   ],
   "source": [
    "ef2.portfolio_performance(risk_free_rate=rf, verbose=True)"
   ]
  },
  {
   "cell_type": "code",
   "execution_count": 124,
   "metadata": {
    "pycharm": {
     "name": "#%%\n"
    }
   },
   "outputs": [],
   "source": [
    "from cvxpy import SCS"
   ]
  },
  {
   "cell_type": "code",
   "execution_count": 124,
   "metadata": {
    "pycharm": {
     "name": "#%%\n"
    }
   },
   "outputs": [],
   "source": []
  },
  {
   "cell_type": "code",
   "execution_count": 124,
   "metadata": {
    "pycharm": {
     "name": "#%%\n"
    }
   },
   "outputs": [],
   "source": []
  },
  {
   "cell_type": "code",
   "execution_count": 124,
   "metadata": {
    "pycharm": {
     "name": "#%%\n"
    }
   },
   "outputs": [],
   "source": []
  },
  {
   "cell_type": "code",
   "execution_count": 124,
   "metadata": {
    "pycharm": {
     "name": "#%%\n"
    }
   },
   "outputs": [],
   "source": []
  },
  {
   "cell_type": "code",
   "execution_count": 124,
   "metadata": {
    "pycharm": {
     "name": "#%%\n"
    }
   },
   "outputs": [],
   "source": []
  },
  {
   "cell_type": "code",
   "execution_count": 124,
   "metadata": {
    "pycharm": {
     "name": "#%%\n"
    }
   },
   "outputs": [],
   "source": []
  },
  {
   "cell_type": "code",
   "execution_count": 124,
   "metadata": {
    "pycharm": {
     "name": "#%%\n"
    }
   },
   "outputs": [],
   "source": []
  },
  {
   "cell_type": "code",
   "execution_count": 125,
   "metadata": {
    "pycharm": {
     "name": "#%%\n"
    }
   },
   "outputs": [],
   "source": [
    "maxr = ef2.efficient_risk(.3,market_neutral=True)"
   ]
  },
  {
   "cell_type": "code",
   "execution_count": 126,
   "metadata": {
    "pycharm": {
     "name": "#%%\n"
    }
   },
   "outputs": [
    {
     "data": {
      "text/plain": [
       "OrderedDict([('AAPL', -3.088004e-10),\n",
       "             ('AMD', 0.5698164930705245),\n",
       "             ('BABA', -0.4483532115557538),\n",
       "             ('QQQ', -5.602539e-10),\n",
       "             ('SPY', -9.360236e-10),\n",
       "             ('TSM', 0.0499999994459332),\n",
       "             ('V', -0.1714632791558994)])"
      ]
     },
     "execution_count": 126,
     "metadata": {},
     "output_type": "execute_result"
    }
   ],
   "source": [
    "maxr"
   ]
  },
  {
   "cell_type": "code",
   "execution_count": 127,
   "metadata": {
    "pycharm": {
     "name": "#%%\n"
    }
   },
   "outputs": [
    {
     "name": "stdout",
     "output_type": "stream",
     "text": [
      "Expected annual return: 53.4%\n",
      "Annual volatility: 30.0%\n",
      "Sharpe Ratio: 1.68\n"
     ]
    },
    {
     "data": {
      "text/plain": [
       "(0.5337125769833772, 0.2999999998675236, 1.6790419240193684)"
      ]
     },
     "execution_count": 127,
     "metadata": {},
     "output_type": "execute_result"
    }
   ],
   "source": [
    "ef2.portfolio_performance(risk_free_rate=rf, verbose=True)"
   ]
  },
  {
   "cell_type": "code",
   "execution_count": 128,
   "metadata": {
    "pycharm": {
     "name": "#%%\n"
    }
   },
   "outputs": [],
   "source": [
    "from cvxpy import SCS"
   ]
  },
  {
   "cell_type": "code",
   "execution_count": 131,
   "metadata": {
    "pycharm": {
     "name": "#%%\n"
    }
   },
   "outputs": [],
   "source": []
  },
  {
   "cell_type": "code",
   "execution_count": 150,
   "metadata": {
    "pycharm": {
     "name": "#%%\n"
    }
   },
   "outputs": [
    {
     "data": {
      "text/plain": "<Figure size 432x288 with 1 Axes>",
      "image/png": "[encoded data removed]"
     },
     "metadata": {
      "needs_background": "light"
     },
     "output_type": "display_data"
    }
   ],
   "source": [
    "import copy\n",
    "\n",
    "mu = expected_returns.mean_historical_return(data2)\n",
    "S = risk_models.sample_cov(data2)\n",
    "ef4 = EfficientFrontier(mu,S,weight_bounds=(None,None))\n",
    "# ef4.add_constraint(lambda w: w[0]+w[1]+w[2]+w[3] == 1)\n",
    "\n",
    "\n",
    "\n",
    "fig, ax = plt.subplots()\n",
    "ef_max_sharpe = copy.deepcopy(ef4)\n",
    "plotting.plot_efficient_frontier(ef4, ax=ax, show_assets=False)\n",
    "\n",
    "# Find the tangency portfolio\n",
    "ef_max_sharpe.max_sharpe()\n",
    "ret_tangent, std_tangent, _ = ef_max_sharpe.portfolio_performance()\n",
    "ax.scatter(std_tangent, ret_tangent, marker=\"*\", s=100, c=\"r\", label=\"Max Sharpe\")\n",
    "\n",
    "# Generate random portfolios\n",
    "n_samples = 30000\n",
    "w = np.random.dirichlet(np.ones(ef.n_assets), n_samples)\n",
    "rets = w.dot(ef4.expected_returns)\n",
    "stds = np.sqrt(np.diag(w @ ef.cov_matrix @ w.T))\n",
    "sharpes = rets / stds\n",
    "ax.scatter(stds, rets, marker=\".\", c=sharpes, cmap=\"viridis_r\")\n",
    "\n",
    "# Output\n",
    "ax.set_title(\"Efficient Frontier with random portfolios\")\n",
    "ax.legend()\n",
    "plt.tight_layout()\n",
    "plt.savefig(\"ef_scatter.png\", dpi=200)\n",
    "plt.show()"
   ]
  },
  {
   "cell_type": "code",
   "execution_count": null,
   "metadata": {
    "pycharm": {
     "name": "#%%\n"
    }
   },
   "outputs": [],
   "source": []
  }
 ],
 "metadata": {
  "kernelspec": {
   "display_name": "Python 3 (ipykernel)",
   "language": "python",
   "name": "python3"
  },
  "language_info": {
   "codemirror_mode": {
    "name": "ipython",
    "version": 3
   },
   "file_extension": ".py",
   "mimetype": "text/x-python",
   "name": "python",
   "nbconvert_exporter": "python",
   "pygments_lexer": "ipython3",
   "version": "3.9.7"
  }
 },
 "nbformat": 4,
 "nbformat_minor": 1
}