{
 "cells": [
  {
   "cell_type": "code",
   "execution_count": 237,
   "metadata": {
    "collapsed": true,
    "pycharm": {
     "name": "#%%\n"
    }
   },
   "outputs": [],
   "source": [
    "import numpy as np\n",
    "import pandas as pd\n",
    "import yfinance as yf\n",
    "import pypfopt\n",
    "from pypfopt import expected_returns\n",
    "from pypfopt import EfficientFrontier\n",
    "from pypfopt import risk_models\n",
    "import streamlit as st"
   ]
  },
  {
   "cell_type": "code",
   "execution_count": 238,
   "outputs": [],
   "source": [
    "tickers = ['TSM','AAPL','AMD','BABA', 'SPY', 'V','QQQ']"
   ],
   "metadata": {
    "collapsed": false,
    "pycharm": {
     "name": "#%%\n"
    }
   }
  },
  {
   "cell_type": "code",
   "execution_count": 239,
   "outputs": [
    {
     "name": "stdout",
     "output_type": "stream",
     "text": [
      "[*********************100%***********************]  1 of 1 completed\n",
      "\n",
      "1 Failed download:\n",
      "- TSMAAPLAMDBABASPYVQQQ: No data found, symbol may be delisted\n"
     ]
    }
   ],
   "source": [
    "data =yf.download(tickers, start='2020-01-01', end='2021-12-31')"
   ],
   "metadata": {
    "collapsed": false,
    "pycharm": {
     "name": "#%%\n"
    }
   }
  },
  {
   "cell_type": "code",
   "execution_count": 208,
   "outputs": [
    {
     "data": {
      "text/plain": "            Adj Close                                                 \\\n                 AAPL        AMD        BABA         QQQ         SPY   \nDate                                                                   \n2020-01-02  73.785919  49.099998  219.770004  213.641663  312.395050   \n2020-01-03  73.068581  48.599998  217.000000  211.684708  310.029541   \n2020-01-06  73.650787  48.389999  216.639999  213.048630  311.212311   \n2020-01-07  73.304413  48.250000  217.630005  213.018997  310.337280   \n2020-01-08  74.483604  47.830002  218.000000  214.620117  311.991211   \n\n                                       Close                         ...  \\\n                  TSM           V       AAPL        AMD        BABA  ...   \nDate                                                                 ...   \n2020-01-02  56.990181  188.125137  75.087502  49.099998  219.770004  ...   \n2020-01-03  55.110767  186.628983  74.357498  48.599998  217.000000  ...   \n2020-01-06  54.474792  186.225357  74.949997  48.389999  216.639999  ...   \n2020-01-07  55.357555  185.733231  74.597504  48.250000  217.630005  ...   \n2020-01-08  55.765713  188.912598  75.797501  47.830002  218.000000  ...   \n\n                  Open                            Volume                      \\\n                   SPY        TSM           V       AAPL       AMD      BABA   \nDate                                                                           \n2020-01-02  323.540009  59.599998  189.000000  135480400  80331100  15873500   \n2020-01-03  321.160004  58.970001  188.410004  146322800  73127400   8604500   \n2020-01-06  320.489990  57.599998  188.000000  118387200  47934900  11885500   \n2020-01-07  323.019989  57.450001  189.589996  108872000  58061400   9388000   \n2020-01-08  322.940002  58.189999  189.490005  132079200  53767000  11959100   \n\n                                                    \n                 QQQ       SPY       TSM         V  \nDate                                                \n2020-01-02  30969400  59151200   8432600   8733000  \n2020-01-03  27518900  77709700  10546400   4899700  \n2020-01-06  21655300  55653900   8897200  10109500  \n2020-01-07  22139300  40496400   7444300   4392300  \n2020-01-08  26397300  68296000   5381500   5712000  \n\n[5 rows x 42 columns]",
      "text/html": "<div>\n<style scoped>\n    .dataframe tbody tr th:only-of-type {\n        vertical-align: middle;\n    }\n\n    .dataframe tbody tr th {\n        vertical-align: top;\n    }\n\n    .dataframe thead tr th {\n        text-align: left;\n    }\n\n    .dataframe thead tr:last-of-type th {\n        text-align: right;\n    }\n</style>\n<table border=\"1\" class=\"dataframe\">\n  <thead>\n    <tr>\n      <th></th>\n      <th colspan=\"7\" halign=\"left\">Adj Close</th>\n      <th colspan=\"3\" halign=\"left\">Close</th>\n      <th>...</th>\n      <th colspan=\"3\" halign=\"left\">Open</th>\n      <th colspan=\"7\" halign=\"left\">Volume</th>\n    </tr>\n    <tr>\n      <th></th>\n      <th>AAPL</th>\n      <th>AMD</th>\n      <th>BABA</th>\n      <th>QQQ</th>\n      <th>SPY</th>\n      <th>TSM</th>\n      <th>V</th>\n      <th>AAPL</th>\n      <th>AMD</th>\n      <th>BABA</th>\n      <th>...</th>\n      <th>SPY</th>\n      <th>TSM</th>\n      <th>V</th>\n      <th>AAPL</th>\n      <th>AMD</th>\n      <th>BABA</th>\n      <th>QQQ</th>\n      <th>SPY</th>\n      <th>TSM</th>\n      <th>V</th>\n    </tr>\n    <tr>\n      <th>Date</th>\n      <th></th>\n      <th></th>\n      <th></th>\n      <th></th>\n      <th></th>\n      <th></th>\n      <th></th>\n      <th></th>\n      <th></th>\n      <th></th>\n      <th></th>\n      <th></th>\n      <th></th>\n      <th></th>\n      <th></th>\n      <th></th>\n      <th></th>\n      <th></th>\n      <th></th>\n      <th></th>\n      <th></th>\n    </tr>\n  </thead>\n  <tbody>\n    <tr>\n      <th>2020-01-02</th>\n      <td>73.785919</td>\n      <td>49.099998</td>\n      <td>219.770004</td>\n      <td>213.641663</td>\n      <td>312.395050</td>\n      <td>56.990181</td>\n      <td>188.125137</td>\n      <td>75.087502</td>\n      <td>49.099998</td>\n      <td>219.770004</td>\n      <td>...</td>\n      <td>323.540009</td>\n      <td>59.599998</td>\n      <td>189.000000</td>\n      <td>135480400</td>\n      <td>80331100</td>\n      <td>15873500</td>\n      <td>30969400</td>\n      <td>59151200</td>\n      <td>8432600</td>\n      <td>8733000</td>\n    </tr>\n    <tr>\n      <th>2020-01-03</th>\n      <td>73.068581</td>\n      <td>48.599998</td>\n      <td>217.000000</td>\n      <td>211.684708</td>\n      <td>310.029541</td>\n      <td>55.110767</td>\n      <td>186.628983</td>\n      <td>74.357498</td>\n      <td>48.599998</td>\n      <td>217.000000</td>\n      <td>...</td>\n      <td>321.160004</td>\n      <td>58.970001</td>\n      <td>188.410004</td>\n      <td>146322800</td>\n      <td>73127400</td>\n      <td>8604500</td>\n      <td>27518900</td>\n      <td>77709700</td>\n      <td>10546400</td>\n      <td>4899700</td>\n    </tr>\n    <tr>\n      <th>2020-01-06</th>\n      <td>73.650787</td>\n      <td>48.389999</td>\n      <td>216.639999</td>\n      <td>213.048630</td>\n      <td>311.212311</td>\n      <td>54.474792</td>\n      <td>186.225357</td>\n      <td>74.949997</td>\n      <td>48.389999</td>\n      <td>216.639999</td>\n      <td>...</td>\n      <td>320.489990</td>\n      <td>57.599998</td>\n      <td>188.000000</td>\n      <td>118387200</td>\n      <td>47934900</td>\n      <td>11885500</td>\n      <td>21655300</td>\n      <td>55653900</td>\n      <td>8897200</td>\n      <td>10109500</td>\n    </tr>\n    <tr>\n      <th>2020-01-07</th>\n      <td>73.304413</td>\n      <td>48.250000</td>\n      <td>217.630005</td>\n      <td>213.018997</td>\n      <td>310.337280</td>\n      <td>55.357555</td>\n      <td>185.733231</td>\n      <td>74.597504</td>\n      <td>48.250000</td>\n      <td>217.630005</td>\n      <td>...</td>\n      <td>323.019989</td>\n      <td>57.450001</td>\n      <td>189.589996</td>\n      <td>108872000</td>\n      <td>58061400</td>\n      <td>9388000</td>\n      <td>22139300</td>\n      <td>40496400</td>\n      <td>7444300</td>\n      <td>4392300</td>\n    </tr>\n    <tr>\n      <th>2020-01-08</th>\n      <td>74.483604</td>\n      <td>47.830002</td>\n      <td>218.000000</td>\n      <td>214.620117</td>\n      <td>311.991211</td>\n      <td>55.765713</td>\n      <td>188.912598</td>\n      <td>75.797501</td>\n      <td>47.830002</td>\n      <td>218.000000</td>\n      <td>...</td>\n      <td>322.940002</td>\n      <td>58.189999</td>\n      <td>189.490005</td>\n      <td>132079200</td>\n      <td>53767000</td>\n      <td>11959100</td>\n      <td>26397300</td>\n      <td>68296000</td>\n      <td>5381500</td>\n      <td>5712000</td>\n    </tr>\n  </tbody>\n</table>\n<p>5 rows × 42 columns</p>\n</div>"
     },
     "execution_count": 208,
     "metadata": {},
     "output_type": "execute_result"
    }
   ],
   "source": [
    "data.head()"
   ],
   "metadata": {
    "collapsed": false,
    "pycharm": {
     "name": "#%%\n"
    }
   }
  },
  {
   "cell_type": "code",
   "execution_count": 209,
   "outputs": [],
   "source": [
    "data2 = data['Adj Close']"
   ],
   "metadata": {
    "collapsed": false,
    "pycharm": {
     "name": "#%%\n"
    }
   }
  },
  {
   "cell_type": "code",
   "execution_count": 210,
   "outputs": [],
   "source": [
    "mu =pypfopt.expected_returns.mean_historical_return(data2)"
   ],
   "metadata": {
    "collapsed": false,
    "pycharm": {
     "name": "#%%\n"
    }
   }
  },
  {
   "cell_type": "code",
   "execution_count": 242,
   "outputs": [
    {
     "data": {
      "text/plain": "Index(['AAPL', 'AMD', 'BABA', 'QQQ', 'SPY', 'TSM', 'V'], dtype='object')"
     },
     "execution_count": 242,
     "metadata": {},
     "output_type": "execute_result"
    }
   ],
   "source": [],
   "metadata": {
    "collapsed": false,
    "pycharm": {
     "name": "#%%\n"
    }
   }
  },
  {
   "cell_type": "code",
   "execution_count": 211,
   "outputs": [],
   "source": [
    "cov =pypfopt.risk_models.sample_cov(data2)\n",
    "w = np.array([.2,.25,.25,.30,.2,.05,.08])"
   ],
   "metadata": {
    "collapsed": false,
    "pycharm": {
     "name": "#%%\n"
    }
   }
  },
  {
   "cell_type": "code",
   "execution_count": 212,
   "outputs": [
    {
     "data": {
      "text/plain": "array([0.2 , 0.25, 0.25, 0.3 , 0.2 , 0.05, 0.08])"
     },
     "execution_count": 212,
     "metadata": {},
     "output_type": "execute_result"
    }
   ],
   "source": [
    "w\n"
   ],
   "metadata": {
    "collapsed": false,
    "pycharm": {
     "name": "#%%\n"
    }
   }
  },
  {
   "cell_type": "code",
   "execution_count": 227,
   "outputs": [],
   "source": [
    "w_min =np.array([-.1,-.2,-.2,-.10,.2,-.05,-.05])"
   ],
   "metadata": {
    "collapsed": false,
    "pycharm": {
     "name": "#%%\n"
    }
   }
  },
  {
   "cell_type": "code",
   "execution_count": 228,
   "outputs": [],
   "source": [
    "rf =.03"
   ],
   "metadata": {
    "collapsed": false,
    "pycharm": {
     "name": "#%%\n"
    }
   }
  },
  {
   "cell_type": "code",
   "execution_count": 229,
   "outputs": [],
   "source": [
    "ef = EfficientFrontier(mu, cov,weight_bounds=(-1,1))\n",
    "ef.add_constraint(lambda x: x <= w)\n",
    "ef.add_constraint(lambda y: y >= w_min)"
   ],
   "metadata": {
    "collapsed": false,
    "pycharm": {
     "name": "#%%\n"
    }
   }
  },
  {
   "cell_type": "code",
   "execution_count": 230,
   "outputs": [],
   "source": [
    "sharpe =ef.max_sharpe(risk_free_rate=rf)\n",
    "clean_weights  = ef.clean_weights()"
   ],
   "metadata": {
    "collapsed": false,
    "pycharm": {
     "name": "#%%\n"
    }
   }
  },
  {
   "cell_type": "code",
   "execution_count": 231,
   "outputs": [
    {
     "name": "stdout",
     "output_type": "stream",
     "text": [
      "OrderedDict([('AAPL', 0.2), ('AMD', 0.25), ('BABA', -0.08), ('QQQ', 0.3), ('SPY', 0.2), ('TSM', 0.05), ('V', 0.08)])\n"
     ]
    }
   ],
   "source": [
    "print(clean_weights)"
   ],
   "metadata": {
    "collapsed": false,
    "pycharm": {
     "name": "#%%\n"
    }
   }
  },
  {
   "cell_type": "code",
   "execution_count": 232,
   "outputs": [
    {
     "name": "stdout",
     "output_type": "stream",
     "text": [
      "Expected annual return: 49.6%\n",
      "Annual volatility: 32.7%\n",
      "Sharpe Ratio: 1.43\n"
     ]
    },
    {
     "data": {
      "text/plain": "(0.49625479604928757, 0.32698185006133934, 1.4259347910650748)"
     },
     "execution_count": 232,
     "metadata": {},
     "output_type": "execute_result"
    }
   ],
   "source": [
    "ef.portfolio_performance(risk_free_rate= rf, verbose=True)"
   ],
   "metadata": {
    "collapsed": false,
    "pycharm": {
     "name": "#%%\n"
    }
   }
  },
  {
   "cell_type": "code",
   "execution_count": 233,
   "outputs": [],
   "source": [
    "ef2 = EfficientFrontier(mu, cov,weight_bounds=(-1,1))\n",
    "ef2.add_constraint(lambda x: x <= w)\n",
    "ef2.add_constraint(lambda x: x >= w_min)"
   ],
   "metadata": {
    "collapsed": false,
    "pycharm": {
     "name": "#%%\n"
    }
   }
  },
  {
   "cell_type": "code",
   "execution_count": 234,
   "outputs": [],
   "source": [
    "maxr = ef2.efficient_risk(.3,market_neutral=True)"
   ],
   "metadata": {
    "collapsed": false,
    "pycharm": {
     "name": "#%%\n"
    }
   }
  },
  {
   "cell_type": "code",
   "execution_count": 235,
   "outputs": [
    {
     "data": {
      "text/plain": "OrderedDict([('AAPL', -0.0500000000391206),\n             ('AMD', 0.2499999999861249),\n             ('BABA', -0.2000000000009475),\n             ('QQQ', -0.0999999999865808),\n             ('SPY', 0.1999999999987815),\n             ('TSM', -0.0499999999586631),\n             ('V', -0.0499999999995998)])"
     },
     "execution_count": 235,
     "metadata": {},
     "output_type": "execute_result"
    }
   ],
   "source": [
    "maxr"
   ],
   "metadata": {
    "collapsed": false,
    "pycharm": {
     "name": "#%%\n"
    }
   }
  },
  {
   "cell_type": "code",
   "execution_count": 236,
   "outputs": [
    {
     "name": "stdout",
     "output_type": "stream",
     "text": [
      "Expected annual return: 18.6%\n",
      "Annual volatility: 12.4%\n",
      "Sharpe Ratio: 1.26\n"
     ]
    },
    {
     "data": {
      "text/plain": "(0.18623441579207078, 0.1236150677774696, 1.2638784138623145)"
     },
     "execution_count": 236,
     "metadata": {},
     "output_type": "execute_result"
    }
   ],
   "source": [
    "ef2.portfolio_performance(risk_free_rate=rf, verbose=True)"
   ],
   "metadata": {
    "collapsed": false,
    "pycharm": {
     "name": "#%%\n"
    }
   }
  },
  {
   "cell_type": "code",
   "execution_count": null,
   "outputs": [],
   "source": [],
   "metadata": {
    "collapsed": false,
    "pycharm": {
     "name": "#%%\n"
    }
   }
  }
 ],
 "metadata": {
  "kernelspec": {
   "display_name": "Python 3",
   "language": "python",
   "name": "python3"
  },
  "language_info": {
   "codemirror_mode": {
    "name": "ipython",
    "version": 2
   },
   "file_extension": ".py",
   "mimetype": "text/x-python",
   "name": "python",
   "nbconvert_exporter": "python",
   "pygments_lexer": "ipython2",
   "version": "2.7.6"
  }
 },
 "nbformat": 4,
 "nbformat_minor": 0
}